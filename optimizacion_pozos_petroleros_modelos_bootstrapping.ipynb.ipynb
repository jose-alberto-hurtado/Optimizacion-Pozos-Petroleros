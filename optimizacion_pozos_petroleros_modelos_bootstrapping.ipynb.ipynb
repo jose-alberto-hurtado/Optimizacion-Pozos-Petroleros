{
 "cells": [
  {
   "cell_type": "markdown",
   "metadata": {},
   "source": [
    "# Optimización de Pozos Petroleros: Selección Basada en Modelos Predictivos y Bootstrapping"
   ]
  },
  {
   "cell_type": "markdown",
   "metadata": {},
   "source": [
    "# INTRODUCCIÓN\n",
    "\n",
    "La compañía de extracción de petróleo OilyGiant tiene como objetivo principal encontrar los mejores lugares para abrir 200 nuevos pozos de petróleo.\n",
    "\n",
    "Para lograrlo, contamos con datos sobre muestras de crudo de tres regiones diferentes, cada una con información detallada de los pozos existentes.\n",
    "\n",
    "El objetivo específico es desarrollar un modelo predictivo que nos ayude a seleccionar la región con el mayor margen de beneficio, utilizando la técnica de bootstrapping para evaluar los posibles beneficios y riesgos de nuestras decisiones."
   ]
  },
  {
   "cell_type": "code",
   "execution_count": 1,
   "metadata": {},
   "outputs": [],
   "source": [
    "#librerías usadas en el proytecto\n",
    "import pandas as pd\n",
    "import numpy as np\n",
    "from sklearn.model_selection import train_test_split\n",
    "from sklearn.linear_model import LinearRegression\n",
    "from sklearn.metrics import mean_squared_error\n",
    "import matplotlib.pyplot as plt\n"
   ]
  },
  {
   "cell_type": "code",
   "execution_count": 2,
   "metadata": {},
   "outputs": [
    {
     "data": {
      "text/html": [
       "<div>\n",
       "<style scoped>\n",
       "    .dataframe tbody tr th:only-of-type {\n",
       "        vertical-align: middle;\n",
       "    }\n",
       "\n",
       "    .dataframe tbody tr th {\n",
       "        vertical-align: top;\n",
       "    }\n",
       "\n",
       "    .dataframe thead th {\n",
       "        text-align: right;\n",
       "    }\n",
       "</style>\n",
       "<table border=\"1\" class=\"dataframe\">\n",
       "  <thead>\n",
       "    <tr style=\"text-align: right;\">\n",
       "      <th></th>\n",
       "      <th>id</th>\n",
       "      <th>f0</th>\n",
       "      <th>f1</th>\n",
       "      <th>f2</th>\n",
       "      <th>product</th>\n",
       "    </tr>\n",
       "  </thead>\n",
       "  <tbody>\n",
       "    <tr>\n",
       "      <th>0</th>\n",
       "      <td>txEyH</td>\n",
       "      <td>0.705745</td>\n",
       "      <td>-0.497823</td>\n",
       "      <td>1.221170</td>\n",
       "      <td>105.280062</td>\n",
       "    </tr>\n",
       "    <tr>\n",
       "      <th>1</th>\n",
       "      <td>2acmU</td>\n",
       "      <td>1.334711</td>\n",
       "      <td>-0.340164</td>\n",
       "      <td>4.365080</td>\n",
       "      <td>73.037750</td>\n",
       "    </tr>\n",
       "    <tr>\n",
       "      <th>2</th>\n",
       "      <td>409Wp</td>\n",
       "      <td>1.022732</td>\n",
       "      <td>0.151990</td>\n",
       "      <td>1.419926</td>\n",
       "      <td>85.265647</td>\n",
       "    </tr>\n",
       "    <tr>\n",
       "      <th>3</th>\n",
       "      <td>iJLyR</td>\n",
       "      <td>-0.032172</td>\n",
       "      <td>0.139033</td>\n",
       "      <td>2.978566</td>\n",
       "      <td>168.620776</td>\n",
       "    </tr>\n",
       "    <tr>\n",
       "      <th>4</th>\n",
       "      <td>Xdl7t</td>\n",
       "      <td>1.988431</td>\n",
       "      <td>0.155413</td>\n",
       "      <td>4.751769</td>\n",
       "      <td>154.036647</td>\n",
       "    </tr>\n",
       "  </tbody>\n",
       "</table>\n",
       "</div>"
      ],
      "text/plain": [
       "      id        f0        f1        f2     product\n",
       "0  txEyH  0.705745 -0.497823  1.221170  105.280062\n",
       "1  2acmU  1.334711 -0.340164  4.365080   73.037750\n",
       "2  409Wp  1.022732  0.151990  1.419926   85.265647\n",
       "3  iJLyR -0.032172  0.139033  2.978566  168.620776\n",
       "4  Xdl7t  1.988431  0.155413  4.751769  154.036647"
      ]
     },
     "execution_count": 2,
     "metadata": {},
     "output_type": "execute_result"
    }
   ],
   "source": [
    "#cargar datos (se cargan las primeras filas de cada dataset para asegurarnos de que los datos se han cargado correctamente, sin anomalías)\n",
    "\n",
    "data_0 = pd.read_csv('/datasets/geo_data_0.csv')\n",
    "data_0.head()"
   ]
  },
  {
   "cell_type": "code",
   "execution_count": 3,
   "metadata": {},
   "outputs": [
    {
     "data": {
      "text/html": [
       "<div>\n",
       "<style scoped>\n",
       "    .dataframe tbody tr th:only-of-type {\n",
       "        vertical-align: middle;\n",
       "    }\n",
       "\n",
       "    .dataframe tbody tr th {\n",
       "        vertical-align: top;\n",
       "    }\n",
       "\n",
       "    .dataframe thead th {\n",
       "        text-align: right;\n",
       "    }\n",
       "</style>\n",
       "<table border=\"1\" class=\"dataframe\">\n",
       "  <thead>\n",
       "    <tr style=\"text-align: right;\">\n",
       "      <th></th>\n",
       "      <th>id</th>\n",
       "      <th>f0</th>\n",
       "      <th>f1</th>\n",
       "      <th>f2</th>\n",
       "      <th>product</th>\n",
       "    </tr>\n",
       "  </thead>\n",
       "  <tbody>\n",
       "    <tr>\n",
       "      <th>0</th>\n",
       "      <td>kBEdx</td>\n",
       "      <td>-15.001348</td>\n",
       "      <td>-8.276000</td>\n",
       "      <td>-0.005876</td>\n",
       "      <td>3.179103</td>\n",
       "    </tr>\n",
       "    <tr>\n",
       "      <th>1</th>\n",
       "      <td>62mP7</td>\n",
       "      <td>14.272088</td>\n",
       "      <td>-3.475083</td>\n",
       "      <td>0.999183</td>\n",
       "      <td>26.953261</td>\n",
       "    </tr>\n",
       "    <tr>\n",
       "      <th>2</th>\n",
       "      <td>vyE1P</td>\n",
       "      <td>6.263187</td>\n",
       "      <td>-5.948386</td>\n",
       "      <td>5.001160</td>\n",
       "      <td>134.766305</td>\n",
       "    </tr>\n",
       "    <tr>\n",
       "      <th>3</th>\n",
       "      <td>KcrkZ</td>\n",
       "      <td>-13.081196</td>\n",
       "      <td>-11.506057</td>\n",
       "      <td>4.999415</td>\n",
       "      <td>137.945408</td>\n",
       "    </tr>\n",
       "    <tr>\n",
       "      <th>4</th>\n",
       "      <td>AHL4O</td>\n",
       "      <td>12.702195</td>\n",
       "      <td>-8.147433</td>\n",
       "      <td>5.004363</td>\n",
       "      <td>134.766305</td>\n",
       "    </tr>\n",
       "  </tbody>\n",
       "</table>\n",
       "</div>"
      ],
      "text/plain": [
       "      id         f0         f1        f2     product\n",
       "0  kBEdx -15.001348  -8.276000 -0.005876    3.179103\n",
       "1  62mP7  14.272088  -3.475083  0.999183   26.953261\n",
       "2  vyE1P   6.263187  -5.948386  5.001160  134.766305\n",
       "3  KcrkZ -13.081196 -11.506057  4.999415  137.945408\n",
       "4  AHL4O  12.702195  -8.147433  5.004363  134.766305"
      ]
     },
     "execution_count": 3,
     "metadata": {},
     "output_type": "execute_result"
    }
   ],
   "source": [
    "data_1= pd.read_csv('/datasets/geo_data_1.csv')\n",
    "data_1.head()"
   ]
  },
  {
   "cell_type": "code",
   "execution_count": 4,
   "metadata": {},
   "outputs": [
    {
     "data": {
      "text/html": [
       "<div>\n",
       "<style scoped>\n",
       "    .dataframe tbody tr th:only-of-type {\n",
       "        vertical-align: middle;\n",
       "    }\n",
       "\n",
       "    .dataframe tbody tr th {\n",
       "        vertical-align: top;\n",
       "    }\n",
       "\n",
       "    .dataframe thead th {\n",
       "        text-align: right;\n",
       "    }\n",
       "</style>\n",
       "<table border=\"1\" class=\"dataframe\">\n",
       "  <thead>\n",
       "    <tr style=\"text-align: right;\">\n",
       "      <th></th>\n",
       "      <th>id</th>\n",
       "      <th>f0</th>\n",
       "      <th>f1</th>\n",
       "      <th>f2</th>\n",
       "      <th>product</th>\n",
       "    </tr>\n",
       "  </thead>\n",
       "  <tbody>\n",
       "    <tr>\n",
       "      <th>0</th>\n",
       "      <td>fwXo0</td>\n",
       "      <td>-1.146987</td>\n",
       "      <td>0.963328</td>\n",
       "      <td>-0.828965</td>\n",
       "      <td>27.758673</td>\n",
       "    </tr>\n",
       "    <tr>\n",
       "      <th>1</th>\n",
       "      <td>WJtFt</td>\n",
       "      <td>0.262778</td>\n",
       "      <td>0.269839</td>\n",
       "      <td>-2.530187</td>\n",
       "      <td>56.069697</td>\n",
       "    </tr>\n",
       "    <tr>\n",
       "      <th>2</th>\n",
       "      <td>ovLUW</td>\n",
       "      <td>0.194587</td>\n",
       "      <td>0.289035</td>\n",
       "      <td>-5.586433</td>\n",
       "      <td>62.871910</td>\n",
       "    </tr>\n",
       "    <tr>\n",
       "      <th>3</th>\n",
       "      <td>q6cA6</td>\n",
       "      <td>2.236060</td>\n",
       "      <td>-0.553760</td>\n",
       "      <td>0.930038</td>\n",
       "      <td>114.572842</td>\n",
       "    </tr>\n",
       "    <tr>\n",
       "      <th>4</th>\n",
       "      <td>WPMUX</td>\n",
       "      <td>-0.515993</td>\n",
       "      <td>1.716266</td>\n",
       "      <td>5.899011</td>\n",
       "      <td>149.600746</td>\n",
       "    </tr>\n",
       "  </tbody>\n",
       "</table>\n",
       "</div>"
      ],
      "text/plain": [
       "      id        f0        f1        f2     product\n",
       "0  fwXo0 -1.146987  0.963328 -0.828965   27.758673\n",
       "1  WJtFt  0.262778  0.269839 -2.530187   56.069697\n",
       "2  ovLUW  0.194587  0.289035 -5.586433   62.871910\n",
       "3  q6cA6  2.236060 -0.553760  0.930038  114.572842\n",
       "4  WPMUX -0.515993  1.716266  5.899011  149.600746"
      ]
     },
     "execution_count": 4,
     "metadata": {},
     "output_type": "execute_result"
    }
   ],
   "source": [
    "data_2 = pd.read_csv('/datasets/geo_data_2.csv')\n",
    "data_2.head()"
   ]
  },
  {
   "cell_type": "code",
   "execution_count": 5,
   "metadata": {},
   "outputs": [
    {
     "data": {
      "text/plain": [
       "<bound method DataFrame.info of           id        f0        f1        f2     product\n",
       "0      fwXo0 -1.146987  0.963328 -0.828965   27.758673\n",
       "1      WJtFt  0.262778  0.269839 -2.530187   56.069697\n",
       "2      ovLUW  0.194587  0.289035 -5.586433   62.871910\n",
       "3      q6cA6  2.236060 -0.553760  0.930038  114.572842\n",
       "4      WPMUX -0.515993  1.716266  5.899011  149.600746\n",
       "...      ...       ...       ...       ...         ...\n",
       "99995  4GxBu -1.777037  1.125220  6.263374  172.327046\n",
       "99996  YKFjq -1.261523 -0.894828  2.524545  138.748846\n",
       "99997  tKPY3 -1.199934 -2.957637  5.219411  157.080080\n",
       "99998  nmxp2 -2.419896  2.417221 -5.548444   51.795253\n",
       "99999  V9kWn -2.551421 -2.025625  6.090891  102.775767\n",
       "\n",
       "[100000 rows x 5 columns]>"
      ]
     },
     "execution_count": 5,
     "metadata": {},
     "output_type": "execute_result"
    }
   ],
   "source": [
    "#información general\n",
    "data_0.info\n",
    "data_1.info\n",
    "data_2.info"
   ]
  },
  {
   "cell_type": "code",
   "execution_count": 6,
   "metadata": {},
   "outputs": [
    {
     "data": {
      "text/plain": [
       "id          object\n",
       "f0         float64\n",
       "f1         float64\n",
       "f2         float64\n",
       "product    float64\n",
       "dtype: object"
      ]
     },
     "execution_count": 6,
     "metadata": {},
     "output_type": "execute_result"
    }
   ],
   "source": [
    "data_0.dtypes"
   ]
  },
  {
   "cell_type": "code",
   "execution_count": 7,
   "metadata": {},
   "outputs": [
    {
     "data": {
      "text/plain": [
       "id          object\n",
       "f0         float64\n",
       "f1         float64\n",
       "f2         float64\n",
       "product    float64\n",
       "dtype: object"
      ]
     },
     "execution_count": 7,
     "metadata": {},
     "output_type": "execute_result"
    }
   ],
   "source": [
    "data_1.dtypes"
   ]
  },
  {
   "cell_type": "code",
   "execution_count": 8,
   "metadata": {},
   "outputs": [
    {
     "data": {
      "text/plain": [
       "id          object\n",
       "f0         float64\n",
       "f1         float64\n",
       "f2         float64\n",
       "product    float64\n",
       "dtype: object"
      ]
     },
     "execution_count": 8,
     "metadata": {},
     "output_type": "execute_result"
    }
   ],
   "source": [
    "data_2.dtypes"
   ]
  },
  {
   "cell_type": "code",
   "execution_count": 9,
   "metadata": {},
   "outputs": [
    {
     "data": {
      "text/html": [
       "<div>\n",
       "<style scoped>\n",
       "    .dataframe tbody tr th:only-of-type {\n",
       "        vertical-align: middle;\n",
       "    }\n",
       "\n",
       "    .dataframe tbody tr th {\n",
       "        vertical-align: top;\n",
       "    }\n",
       "\n",
       "    .dataframe thead th {\n",
       "        text-align: right;\n",
       "    }\n",
       "</style>\n",
       "<table border=\"1\" class=\"dataframe\">\n",
       "  <thead>\n",
       "    <tr style=\"text-align: right;\">\n",
       "      <th></th>\n",
       "      <th>f0</th>\n",
       "      <th>f1</th>\n",
       "      <th>f2</th>\n",
       "      <th>product</th>\n",
       "    </tr>\n",
       "  </thead>\n",
       "  <tbody>\n",
       "    <tr>\n",
       "      <th>count</th>\n",
       "      <td>100000.000000</td>\n",
       "      <td>100000.000000</td>\n",
       "      <td>100000.000000</td>\n",
       "      <td>100000.000000</td>\n",
       "    </tr>\n",
       "    <tr>\n",
       "      <th>mean</th>\n",
       "      <td>0.500419</td>\n",
       "      <td>0.250143</td>\n",
       "      <td>2.502647</td>\n",
       "      <td>92.500000</td>\n",
       "    </tr>\n",
       "    <tr>\n",
       "      <th>std</th>\n",
       "      <td>0.871832</td>\n",
       "      <td>0.504433</td>\n",
       "      <td>3.248248</td>\n",
       "      <td>44.288691</td>\n",
       "    </tr>\n",
       "    <tr>\n",
       "      <th>min</th>\n",
       "      <td>-1.408605</td>\n",
       "      <td>-0.848218</td>\n",
       "      <td>-12.088328</td>\n",
       "      <td>0.000000</td>\n",
       "    </tr>\n",
       "    <tr>\n",
       "      <th>25%</th>\n",
       "      <td>-0.072580</td>\n",
       "      <td>-0.200881</td>\n",
       "      <td>0.287748</td>\n",
       "      <td>56.497507</td>\n",
       "    </tr>\n",
       "    <tr>\n",
       "      <th>50%</th>\n",
       "      <td>0.502360</td>\n",
       "      <td>0.250252</td>\n",
       "      <td>2.515969</td>\n",
       "      <td>91.849972</td>\n",
       "    </tr>\n",
       "    <tr>\n",
       "      <th>75%</th>\n",
       "      <td>1.073581</td>\n",
       "      <td>0.700646</td>\n",
       "      <td>4.715088</td>\n",
       "      <td>128.564089</td>\n",
       "    </tr>\n",
       "    <tr>\n",
       "      <th>max</th>\n",
       "      <td>2.362331</td>\n",
       "      <td>1.343769</td>\n",
       "      <td>16.003790</td>\n",
       "      <td>185.364347</td>\n",
       "    </tr>\n",
       "  </tbody>\n",
       "</table>\n",
       "</div>"
      ],
      "text/plain": [
       "                  f0             f1             f2        product\n",
       "count  100000.000000  100000.000000  100000.000000  100000.000000\n",
       "mean        0.500419       0.250143       2.502647      92.500000\n",
       "std         0.871832       0.504433       3.248248      44.288691\n",
       "min        -1.408605      -0.848218     -12.088328       0.000000\n",
       "25%        -0.072580      -0.200881       0.287748      56.497507\n",
       "50%         0.502360       0.250252       2.515969      91.849972\n",
       "75%         1.073581       0.700646       4.715088     128.564089\n",
       "max         2.362331       1.343769      16.003790     185.364347"
      ]
     },
     "execution_count": 9,
     "metadata": {},
     "output_type": "execute_result"
    }
   ],
   "source": [
    "data_0.describe()"
   ]
  },
  {
   "cell_type": "code",
   "execution_count": 10,
   "metadata": {},
   "outputs": [
    {
     "data": {
      "text/html": [
       "<div>\n",
       "<style scoped>\n",
       "    .dataframe tbody tr th:only-of-type {\n",
       "        vertical-align: middle;\n",
       "    }\n",
       "\n",
       "    .dataframe tbody tr th {\n",
       "        vertical-align: top;\n",
       "    }\n",
       "\n",
       "    .dataframe thead th {\n",
       "        text-align: right;\n",
       "    }\n",
       "</style>\n",
       "<table border=\"1\" class=\"dataframe\">\n",
       "  <thead>\n",
       "    <tr style=\"text-align: right;\">\n",
       "      <th></th>\n",
       "      <th>f0</th>\n",
       "      <th>f1</th>\n",
       "      <th>f2</th>\n",
       "      <th>product</th>\n",
       "    </tr>\n",
       "  </thead>\n",
       "  <tbody>\n",
       "    <tr>\n",
       "      <th>count</th>\n",
       "      <td>100000.000000</td>\n",
       "      <td>100000.000000</td>\n",
       "      <td>100000.000000</td>\n",
       "      <td>100000.000000</td>\n",
       "    </tr>\n",
       "    <tr>\n",
       "      <th>mean</th>\n",
       "      <td>1.141296</td>\n",
       "      <td>-4.796579</td>\n",
       "      <td>2.494541</td>\n",
       "      <td>68.825000</td>\n",
       "    </tr>\n",
       "    <tr>\n",
       "      <th>std</th>\n",
       "      <td>8.965932</td>\n",
       "      <td>5.119872</td>\n",
       "      <td>1.703572</td>\n",
       "      <td>45.944423</td>\n",
       "    </tr>\n",
       "    <tr>\n",
       "      <th>min</th>\n",
       "      <td>-31.609576</td>\n",
       "      <td>-26.358598</td>\n",
       "      <td>-0.018144</td>\n",
       "      <td>0.000000</td>\n",
       "    </tr>\n",
       "    <tr>\n",
       "      <th>25%</th>\n",
       "      <td>-6.298551</td>\n",
       "      <td>-8.267985</td>\n",
       "      <td>1.000021</td>\n",
       "      <td>26.953261</td>\n",
       "    </tr>\n",
       "    <tr>\n",
       "      <th>50%</th>\n",
       "      <td>1.153055</td>\n",
       "      <td>-4.813172</td>\n",
       "      <td>2.011479</td>\n",
       "      <td>57.085625</td>\n",
       "    </tr>\n",
       "    <tr>\n",
       "      <th>75%</th>\n",
       "      <td>8.621015</td>\n",
       "      <td>-1.332816</td>\n",
       "      <td>3.999904</td>\n",
       "      <td>107.813044</td>\n",
       "    </tr>\n",
       "    <tr>\n",
       "      <th>max</th>\n",
       "      <td>29.421755</td>\n",
       "      <td>18.734063</td>\n",
       "      <td>5.019721</td>\n",
       "      <td>137.945408</td>\n",
       "    </tr>\n",
       "  </tbody>\n",
       "</table>\n",
       "</div>"
      ],
      "text/plain": [
       "                  f0             f1             f2        product\n",
       "count  100000.000000  100000.000000  100000.000000  100000.000000\n",
       "mean        1.141296      -4.796579       2.494541      68.825000\n",
       "std         8.965932       5.119872       1.703572      45.944423\n",
       "min       -31.609576     -26.358598      -0.018144       0.000000\n",
       "25%        -6.298551      -8.267985       1.000021      26.953261\n",
       "50%         1.153055      -4.813172       2.011479      57.085625\n",
       "75%         8.621015      -1.332816       3.999904     107.813044\n",
       "max        29.421755      18.734063       5.019721     137.945408"
      ]
     },
     "execution_count": 10,
     "metadata": {},
     "output_type": "execute_result"
    }
   ],
   "source": [
    "data_1.describe()"
   ]
  },
  {
   "cell_type": "code",
   "execution_count": 11,
   "metadata": {},
   "outputs": [
    {
     "data": {
      "text/html": [
       "<div>\n",
       "<style scoped>\n",
       "    .dataframe tbody tr th:only-of-type {\n",
       "        vertical-align: middle;\n",
       "    }\n",
       "\n",
       "    .dataframe tbody tr th {\n",
       "        vertical-align: top;\n",
       "    }\n",
       "\n",
       "    .dataframe thead th {\n",
       "        text-align: right;\n",
       "    }\n",
       "</style>\n",
       "<table border=\"1\" class=\"dataframe\">\n",
       "  <thead>\n",
       "    <tr style=\"text-align: right;\">\n",
       "      <th></th>\n",
       "      <th>f0</th>\n",
       "      <th>f1</th>\n",
       "      <th>f2</th>\n",
       "      <th>product</th>\n",
       "    </tr>\n",
       "  </thead>\n",
       "  <tbody>\n",
       "    <tr>\n",
       "      <th>count</th>\n",
       "      <td>100000.000000</td>\n",
       "      <td>100000.000000</td>\n",
       "      <td>100000.000000</td>\n",
       "      <td>100000.000000</td>\n",
       "    </tr>\n",
       "    <tr>\n",
       "      <th>mean</th>\n",
       "      <td>0.002023</td>\n",
       "      <td>-0.002081</td>\n",
       "      <td>2.495128</td>\n",
       "      <td>95.000000</td>\n",
       "    </tr>\n",
       "    <tr>\n",
       "      <th>std</th>\n",
       "      <td>1.732045</td>\n",
       "      <td>1.730417</td>\n",
       "      <td>3.473445</td>\n",
       "      <td>44.749921</td>\n",
       "    </tr>\n",
       "    <tr>\n",
       "      <th>min</th>\n",
       "      <td>-8.760004</td>\n",
       "      <td>-7.084020</td>\n",
       "      <td>-11.970335</td>\n",
       "      <td>0.000000</td>\n",
       "    </tr>\n",
       "    <tr>\n",
       "      <th>25%</th>\n",
       "      <td>-1.162288</td>\n",
       "      <td>-1.174820</td>\n",
       "      <td>0.130359</td>\n",
       "      <td>59.450441</td>\n",
       "    </tr>\n",
       "    <tr>\n",
       "      <th>50%</th>\n",
       "      <td>0.009424</td>\n",
       "      <td>-0.009482</td>\n",
       "      <td>2.484236</td>\n",
       "      <td>94.925613</td>\n",
       "    </tr>\n",
       "    <tr>\n",
       "      <th>75%</th>\n",
       "      <td>1.158535</td>\n",
       "      <td>1.163678</td>\n",
       "      <td>4.858794</td>\n",
       "      <td>130.595027</td>\n",
       "    </tr>\n",
       "    <tr>\n",
       "      <th>max</th>\n",
       "      <td>7.238262</td>\n",
       "      <td>7.844801</td>\n",
       "      <td>16.739402</td>\n",
       "      <td>190.029838</td>\n",
       "    </tr>\n",
       "  </tbody>\n",
       "</table>\n",
       "</div>"
      ],
      "text/plain": [
       "                  f0             f1             f2        product\n",
       "count  100000.000000  100000.000000  100000.000000  100000.000000\n",
       "mean        0.002023      -0.002081       2.495128      95.000000\n",
       "std         1.732045       1.730417       3.473445      44.749921\n",
       "min        -8.760004      -7.084020     -11.970335       0.000000\n",
       "25%        -1.162288      -1.174820       0.130359      59.450441\n",
       "50%         0.009424      -0.009482       2.484236      94.925613\n",
       "75%         1.158535       1.163678       4.858794     130.595027\n",
       "max         7.238262       7.844801      16.739402     190.029838"
      ]
     },
     "execution_count": 11,
     "metadata": {},
     "output_type": "execute_result"
    }
   ],
   "source": [
    "data_2.describe()"
   ]
  },
  {
   "cell_type": "markdown",
   "metadata": {},
   "source": [
    "conclusión: Observamos que la variable `f0` en el dataset 1 tiene un rango más amplio y una desviación estándar considerablemente alta, lo que indica mayor variabilidad.\n"
   ]
  },
  {
   "cell_type": "code",
   "execution_count": 12,
   "metadata": {},
   "outputs": [
    {
     "data": {
      "text/plain": [
       "Index(['id', 'f0', 'f1', 'f2', 'product'], dtype='object')"
      ]
     },
     "execution_count": 12,
     "metadata": {},
     "output_type": "execute_result"
    }
   ],
   "source": [
    "#las columnas ya estan en minúscula, pero al ser un buen habito se usara \"LOWER\"\n",
    "data_0.columns= data_0.columns.str.lower()\n",
    "data_0.columns"
   ]
  },
  {
   "cell_type": "code",
   "execution_count": 13,
   "metadata": {},
   "outputs": [
    {
     "data": {
      "text/plain": [
       "Index(['id', 'f0', 'f1', 'f2', 'product'], dtype='object')"
      ]
     },
     "execution_count": 13,
     "metadata": {},
     "output_type": "execute_result"
    }
   ],
   "source": [
    "data_1.columns= data_1.columns.str.lower()\n",
    "data_1.columns"
   ]
  },
  {
   "cell_type": "code",
   "execution_count": 14,
   "metadata": {},
   "outputs": [
    {
     "data": {
      "text/plain": [
       "Index(['id', 'f0', 'f1', 'f2', 'product'], dtype='object')"
      ]
     },
     "execution_count": 14,
     "metadata": {},
     "output_type": "execute_result"
    }
   ],
   "source": [
    "data_2.columns= data_2.columns.str.lower()\n",
    "data_2.columns"
   ]
  },
  {
   "cell_type": "code",
   "execution_count": 15,
   "metadata": {},
   "outputs": [
    {
     "data": {
      "text/html": [
       "<div>\n",
       "<style scoped>\n",
       "    .dataframe tbody tr th:only-of-type {\n",
       "        vertical-align: middle;\n",
       "    }\n",
       "\n",
       "    .dataframe tbody tr th {\n",
       "        vertical-align: top;\n",
       "    }\n",
       "\n",
       "    .dataframe thead th {\n",
       "        text-align: right;\n",
       "    }\n",
       "</style>\n",
       "<table border=\"1\" class=\"dataframe\">\n",
       "  <thead>\n",
       "    <tr style=\"text-align: right;\">\n",
       "      <th></th>\n",
       "      <th>id</th>\n",
       "      <th>f0</th>\n",
       "      <th>f1</th>\n",
       "      <th>f2</th>\n",
       "      <th>product</th>\n",
       "    </tr>\n",
       "  </thead>\n",
       "  <tbody>\n",
       "    <tr>\n",
       "      <th>0</th>\n",
       "      <td>txEyH</td>\n",
       "      <td>0.705745</td>\n",
       "      <td>-0.497823</td>\n",
       "      <td>1.221170</td>\n",
       "      <td>105.280062</td>\n",
       "    </tr>\n",
       "    <tr>\n",
       "      <th>1</th>\n",
       "      <td>2acmU</td>\n",
       "      <td>1.334711</td>\n",
       "      <td>-0.340164</td>\n",
       "      <td>4.365080</td>\n",
       "      <td>73.037750</td>\n",
       "    </tr>\n",
       "    <tr>\n",
       "      <th>2</th>\n",
       "      <td>409Wp</td>\n",
       "      <td>1.022732</td>\n",
       "      <td>0.151990</td>\n",
       "      <td>1.419926</td>\n",
       "      <td>85.265647</td>\n",
       "    </tr>\n",
       "    <tr>\n",
       "      <th>3</th>\n",
       "      <td>iJLyR</td>\n",
       "      <td>-0.032172</td>\n",
       "      <td>0.139033</td>\n",
       "      <td>2.978566</td>\n",
       "      <td>168.620776</td>\n",
       "    </tr>\n",
       "    <tr>\n",
       "      <th>4</th>\n",
       "      <td>Xdl7t</td>\n",
       "      <td>1.988431</td>\n",
       "      <td>0.155413</td>\n",
       "      <td>4.751769</td>\n",
       "      <td>154.036647</td>\n",
       "    </tr>\n",
       "    <tr>\n",
       "      <th>...</th>\n",
       "      <td>...</td>\n",
       "      <td>...</td>\n",
       "      <td>...</td>\n",
       "      <td>...</td>\n",
       "      <td>...</td>\n",
       "    </tr>\n",
       "    <tr>\n",
       "      <th>99995</th>\n",
       "      <td>DLsed</td>\n",
       "      <td>0.971957</td>\n",
       "      <td>0.370953</td>\n",
       "      <td>6.075346</td>\n",
       "      <td>110.744026</td>\n",
       "    </tr>\n",
       "    <tr>\n",
       "      <th>99996</th>\n",
       "      <td>QKivN</td>\n",
       "      <td>1.392429</td>\n",
       "      <td>-0.382606</td>\n",
       "      <td>1.273912</td>\n",
       "      <td>122.346843</td>\n",
       "    </tr>\n",
       "    <tr>\n",
       "      <th>99997</th>\n",
       "      <td>3rnvd</td>\n",
       "      <td>1.029585</td>\n",
       "      <td>0.018787</td>\n",
       "      <td>-1.348308</td>\n",
       "      <td>64.375443</td>\n",
       "    </tr>\n",
       "    <tr>\n",
       "      <th>99998</th>\n",
       "      <td>7kl59</td>\n",
       "      <td>0.998163</td>\n",
       "      <td>-0.528582</td>\n",
       "      <td>1.583869</td>\n",
       "      <td>74.040764</td>\n",
       "    </tr>\n",
       "    <tr>\n",
       "      <th>99999</th>\n",
       "      <td>1CWhH</td>\n",
       "      <td>1.764754</td>\n",
       "      <td>-0.266417</td>\n",
       "      <td>5.722849</td>\n",
       "      <td>149.633246</td>\n",
       "    </tr>\n",
       "  </tbody>\n",
       "</table>\n",
       "<p>100000 rows × 5 columns</p>\n",
       "</div>"
      ],
      "text/plain": [
       "          id        f0        f1        f2     product\n",
       "0      txEyH  0.705745 -0.497823  1.221170  105.280062\n",
       "1      2acmU  1.334711 -0.340164  4.365080   73.037750\n",
       "2      409Wp  1.022732  0.151990  1.419926   85.265647\n",
       "3      iJLyR -0.032172  0.139033  2.978566  168.620776\n",
       "4      Xdl7t  1.988431  0.155413  4.751769  154.036647\n",
       "...      ...       ...       ...       ...         ...\n",
       "99995  DLsed  0.971957  0.370953  6.075346  110.744026\n",
       "99996  QKivN  1.392429 -0.382606  1.273912  122.346843\n",
       "99997  3rnvd  1.029585  0.018787 -1.348308   64.375443\n",
       "99998  7kl59  0.998163 -0.528582  1.583869   74.040764\n",
       "99999  1CWhH  1.764754 -0.266417  5.722849  149.633246\n",
       "\n",
       "[100000 rows x 5 columns]"
      ]
     },
     "execution_count": 15,
     "metadata": {},
     "output_type": "execute_result"
    }
   ],
   "source": [
    "data_0.isnull().sum()\n",
    "data_0"
   ]
  },
  {
   "cell_type": "code",
   "execution_count": 16,
   "metadata": {},
   "outputs": [
    {
     "data": {
      "text/html": [
       "<div>\n",
       "<style scoped>\n",
       "    .dataframe tbody tr th:only-of-type {\n",
       "        vertical-align: middle;\n",
       "    }\n",
       "\n",
       "    .dataframe tbody tr th {\n",
       "        vertical-align: top;\n",
       "    }\n",
       "\n",
       "    .dataframe thead th {\n",
       "        text-align: right;\n",
       "    }\n",
       "</style>\n",
       "<table border=\"1\" class=\"dataframe\">\n",
       "  <thead>\n",
       "    <tr style=\"text-align: right;\">\n",
       "      <th></th>\n",
       "      <th>id</th>\n",
       "      <th>f0</th>\n",
       "      <th>f1</th>\n",
       "      <th>f2</th>\n",
       "      <th>product</th>\n",
       "    </tr>\n",
       "  </thead>\n",
       "  <tbody>\n",
       "    <tr>\n",
       "      <th>0</th>\n",
       "      <td>kBEdx</td>\n",
       "      <td>-15.001348</td>\n",
       "      <td>-8.276000</td>\n",
       "      <td>-0.005876</td>\n",
       "      <td>3.179103</td>\n",
       "    </tr>\n",
       "    <tr>\n",
       "      <th>1</th>\n",
       "      <td>62mP7</td>\n",
       "      <td>14.272088</td>\n",
       "      <td>-3.475083</td>\n",
       "      <td>0.999183</td>\n",
       "      <td>26.953261</td>\n",
       "    </tr>\n",
       "    <tr>\n",
       "      <th>2</th>\n",
       "      <td>vyE1P</td>\n",
       "      <td>6.263187</td>\n",
       "      <td>-5.948386</td>\n",
       "      <td>5.001160</td>\n",
       "      <td>134.766305</td>\n",
       "    </tr>\n",
       "    <tr>\n",
       "      <th>3</th>\n",
       "      <td>KcrkZ</td>\n",
       "      <td>-13.081196</td>\n",
       "      <td>-11.506057</td>\n",
       "      <td>4.999415</td>\n",
       "      <td>137.945408</td>\n",
       "    </tr>\n",
       "    <tr>\n",
       "      <th>4</th>\n",
       "      <td>AHL4O</td>\n",
       "      <td>12.702195</td>\n",
       "      <td>-8.147433</td>\n",
       "      <td>5.004363</td>\n",
       "      <td>134.766305</td>\n",
       "    </tr>\n",
       "    <tr>\n",
       "      <th>...</th>\n",
       "      <td>...</td>\n",
       "      <td>...</td>\n",
       "      <td>...</td>\n",
       "      <td>...</td>\n",
       "      <td>...</td>\n",
       "    </tr>\n",
       "    <tr>\n",
       "      <th>99995</th>\n",
       "      <td>QywKC</td>\n",
       "      <td>9.535637</td>\n",
       "      <td>-6.878139</td>\n",
       "      <td>1.998296</td>\n",
       "      <td>53.906522</td>\n",
       "    </tr>\n",
       "    <tr>\n",
       "      <th>99996</th>\n",
       "      <td>ptvty</td>\n",
       "      <td>-10.160631</td>\n",
       "      <td>-12.558096</td>\n",
       "      <td>5.005581</td>\n",
       "      <td>137.945408</td>\n",
       "    </tr>\n",
       "    <tr>\n",
       "      <th>99997</th>\n",
       "      <td>09gWa</td>\n",
       "      <td>-7.378891</td>\n",
       "      <td>-3.084104</td>\n",
       "      <td>4.998651</td>\n",
       "      <td>137.945408</td>\n",
       "    </tr>\n",
       "    <tr>\n",
       "      <th>99998</th>\n",
       "      <td>rqwUm</td>\n",
       "      <td>0.665714</td>\n",
       "      <td>-6.152593</td>\n",
       "      <td>1.000146</td>\n",
       "      <td>30.132364</td>\n",
       "    </tr>\n",
       "    <tr>\n",
       "      <th>99999</th>\n",
       "      <td>relB0</td>\n",
       "      <td>-3.426139</td>\n",
       "      <td>-7.794274</td>\n",
       "      <td>-0.003299</td>\n",
       "      <td>3.179103</td>\n",
       "    </tr>\n",
       "  </tbody>\n",
       "</table>\n",
       "<p>100000 rows × 5 columns</p>\n",
       "</div>"
      ],
      "text/plain": [
       "          id         f0         f1        f2     product\n",
       "0      kBEdx -15.001348  -8.276000 -0.005876    3.179103\n",
       "1      62mP7  14.272088  -3.475083  0.999183   26.953261\n",
       "2      vyE1P   6.263187  -5.948386  5.001160  134.766305\n",
       "3      KcrkZ -13.081196 -11.506057  4.999415  137.945408\n",
       "4      AHL4O  12.702195  -8.147433  5.004363  134.766305\n",
       "...      ...        ...        ...       ...         ...\n",
       "99995  QywKC   9.535637  -6.878139  1.998296   53.906522\n",
       "99996  ptvty -10.160631 -12.558096  5.005581  137.945408\n",
       "99997  09gWa  -7.378891  -3.084104  4.998651  137.945408\n",
       "99998  rqwUm   0.665714  -6.152593  1.000146   30.132364\n",
       "99999  relB0  -3.426139  -7.794274 -0.003299    3.179103\n",
       "\n",
       "[100000 rows x 5 columns]"
      ]
     },
     "execution_count": 16,
     "metadata": {},
     "output_type": "execute_result"
    }
   ],
   "source": [
    "data_1.isnull().sum()\n",
    "data_1"
   ]
  },
  {
   "cell_type": "code",
   "execution_count": 17,
   "metadata": {},
   "outputs": [
    {
     "data": {
      "text/html": [
       "<div>\n",
       "<style scoped>\n",
       "    .dataframe tbody tr th:only-of-type {\n",
       "        vertical-align: middle;\n",
       "    }\n",
       "\n",
       "    .dataframe tbody tr th {\n",
       "        vertical-align: top;\n",
       "    }\n",
       "\n",
       "    .dataframe thead th {\n",
       "        text-align: right;\n",
       "    }\n",
       "</style>\n",
       "<table border=\"1\" class=\"dataframe\">\n",
       "  <thead>\n",
       "    <tr style=\"text-align: right;\">\n",
       "      <th></th>\n",
       "      <th>id</th>\n",
       "      <th>f0</th>\n",
       "      <th>f1</th>\n",
       "      <th>f2</th>\n",
       "      <th>product</th>\n",
       "    </tr>\n",
       "  </thead>\n",
       "  <tbody>\n",
       "    <tr>\n",
       "      <th>0</th>\n",
       "      <td>fwXo0</td>\n",
       "      <td>-1.146987</td>\n",
       "      <td>0.963328</td>\n",
       "      <td>-0.828965</td>\n",
       "      <td>27.758673</td>\n",
       "    </tr>\n",
       "    <tr>\n",
       "      <th>1</th>\n",
       "      <td>WJtFt</td>\n",
       "      <td>0.262778</td>\n",
       "      <td>0.269839</td>\n",
       "      <td>-2.530187</td>\n",
       "      <td>56.069697</td>\n",
       "    </tr>\n",
       "    <tr>\n",
       "      <th>2</th>\n",
       "      <td>ovLUW</td>\n",
       "      <td>0.194587</td>\n",
       "      <td>0.289035</td>\n",
       "      <td>-5.586433</td>\n",
       "      <td>62.871910</td>\n",
       "    </tr>\n",
       "    <tr>\n",
       "      <th>3</th>\n",
       "      <td>q6cA6</td>\n",
       "      <td>2.236060</td>\n",
       "      <td>-0.553760</td>\n",
       "      <td>0.930038</td>\n",
       "      <td>114.572842</td>\n",
       "    </tr>\n",
       "    <tr>\n",
       "      <th>4</th>\n",
       "      <td>WPMUX</td>\n",
       "      <td>-0.515993</td>\n",
       "      <td>1.716266</td>\n",
       "      <td>5.899011</td>\n",
       "      <td>149.600746</td>\n",
       "    </tr>\n",
       "    <tr>\n",
       "      <th>...</th>\n",
       "      <td>...</td>\n",
       "      <td>...</td>\n",
       "      <td>...</td>\n",
       "      <td>...</td>\n",
       "      <td>...</td>\n",
       "    </tr>\n",
       "    <tr>\n",
       "      <th>99995</th>\n",
       "      <td>4GxBu</td>\n",
       "      <td>-1.777037</td>\n",
       "      <td>1.125220</td>\n",
       "      <td>6.263374</td>\n",
       "      <td>172.327046</td>\n",
       "    </tr>\n",
       "    <tr>\n",
       "      <th>99996</th>\n",
       "      <td>YKFjq</td>\n",
       "      <td>-1.261523</td>\n",
       "      <td>-0.894828</td>\n",
       "      <td>2.524545</td>\n",
       "      <td>138.748846</td>\n",
       "    </tr>\n",
       "    <tr>\n",
       "      <th>99997</th>\n",
       "      <td>tKPY3</td>\n",
       "      <td>-1.199934</td>\n",
       "      <td>-2.957637</td>\n",
       "      <td>5.219411</td>\n",
       "      <td>157.080080</td>\n",
       "    </tr>\n",
       "    <tr>\n",
       "      <th>99998</th>\n",
       "      <td>nmxp2</td>\n",
       "      <td>-2.419896</td>\n",
       "      <td>2.417221</td>\n",
       "      <td>-5.548444</td>\n",
       "      <td>51.795253</td>\n",
       "    </tr>\n",
       "    <tr>\n",
       "      <th>99999</th>\n",
       "      <td>V9kWn</td>\n",
       "      <td>-2.551421</td>\n",
       "      <td>-2.025625</td>\n",
       "      <td>6.090891</td>\n",
       "      <td>102.775767</td>\n",
       "    </tr>\n",
       "  </tbody>\n",
       "</table>\n",
       "<p>100000 rows × 5 columns</p>\n",
       "</div>"
      ],
      "text/plain": [
       "          id        f0        f1        f2     product\n",
       "0      fwXo0 -1.146987  0.963328 -0.828965   27.758673\n",
       "1      WJtFt  0.262778  0.269839 -2.530187   56.069697\n",
       "2      ovLUW  0.194587  0.289035 -5.586433   62.871910\n",
       "3      q6cA6  2.236060 -0.553760  0.930038  114.572842\n",
       "4      WPMUX -0.515993  1.716266  5.899011  149.600746\n",
       "...      ...       ...       ...       ...         ...\n",
       "99995  4GxBu -1.777037  1.125220  6.263374  172.327046\n",
       "99996  YKFjq -1.261523 -0.894828  2.524545  138.748846\n",
       "99997  tKPY3 -1.199934 -2.957637  5.219411  157.080080\n",
       "99998  nmxp2 -2.419896  2.417221 -5.548444   51.795253\n",
       "99999  V9kWn -2.551421 -2.025625  6.090891  102.775767\n",
       "\n",
       "[100000 rows x 5 columns]"
      ]
     },
     "execution_count": 17,
     "metadata": {},
     "output_type": "execute_result"
    }
   ],
   "source": [
    "data_2.isnull().sum()\n",
    "data_2"
   ]
  },
  {
   "cell_type": "code",
   "execution_count": 18,
   "metadata": {},
   "outputs": [
    {
     "data": {
      "text/html": [
       "<div>\n",
       "<style scoped>\n",
       "    .dataframe tbody tr th:only-of-type {\n",
       "        vertical-align: middle;\n",
       "    }\n",
       "\n",
       "    .dataframe tbody tr th {\n",
       "        vertical-align: top;\n",
       "    }\n",
       "\n",
       "    .dataframe thead th {\n",
       "        text-align: right;\n",
       "    }\n",
       "</style>\n",
       "<table border=\"1\" class=\"dataframe\">\n",
       "  <thead>\n",
       "    <tr style=\"text-align: right;\">\n",
       "      <th></th>\n",
       "      <th>id</th>\n",
       "      <th>f0</th>\n",
       "      <th>f1</th>\n",
       "      <th>f2</th>\n",
       "      <th>product</th>\n",
       "    </tr>\n",
       "  </thead>\n",
       "  <tbody>\n",
       "    <tr>\n",
       "      <th>0</th>\n",
       "      <td>txEyH</td>\n",
       "      <td>0.705745</td>\n",
       "      <td>-0.497823</td>\n",
       "      <td>1.221170</td>\n",
       "      <td>105.280062</td>\n",
       "    </tr>\n",
       "    <tr>\n",
       "      <th>1</th>\n",
       "      <td>2acmU</td>\n",
       "      <td>1.334711</td>\n",
       "      <td>-0.340164</td>\n",
       "      <td>4.365080</td>\n",
       "      <td>73.037750</td>\n",
       "    </tr>\n",
       "    <tr>\n",
       "      <th>2</th>\n",
       "      <td>409Wp</td>\n",
       "      <td>1.022732</td>\n",
       "      <td>0.151990</td>\n",
       "      <td>1.419926</td>\n",
       "      <td>85.265647</td>\n",
       "    </tr>\n",
       "    <tr>\n",
       "      <th>3</th>\n",
       "      <td>iJLyR</td>\n",
       "      <td>-0.032172</td>\n",
       "      <td>0.139033</td>\n",
       "      <td>2.978566</td>\n",
       "      <td>168.620776</td>\n",
       "    </tr>\n",
       "    <tr>\n",
       "      <th>4</th>\n",
       "      <td>Xdl7t</td>\n",
       "      <td>1.988431</td>\n",
       "      <td>0.155413</td>\n",
       "      <td>4.751769</td>\n",
       "      <td>154.036647</td>\n",
       "    </tr>\n",
       "    <tr>\n",
       "      <th>...</th>\n",
       "      <td>...</td>\n",
       "      <td>...</td>\n",
       "      <td>...</td>\n",
       "      <td>...</td>\n",
       "      <td>...</td>\n",
       "    </tr>\n",
       "    <tr>\n",
       "      <th>99995</th>\n",
       "      <td>DLsed</td>\n",
       "      <td>0.971957</td>\n",
       "      <td>0.370953</td>\n",
       "      <td>6.075346</td>\n",
       "      <td>110.744026</td>\n",
       "    </tr>\n",
       "    <tr>\n",
       "      <th>99996</th>\n",
       "      <td>QKivN</td>\n",
       "      <td>1.392429</td>\n",
       "      <td>-0.382606</td>\n",
       "      <td>1.273912</td>\n",
       "      <td>122.346843</td>\n",
       "    </tr>\n",
       "    <tr>\n",
       "      <th>99997</th>\n",
       "      <td>3rnvd</td>\n",
       "      <td>1.029585</td>\n",
       "      <td>0.018787</td>\n",
       "      <td>-1.348308</td>\n",
       "      <td>64.375443</td>\n",
       "    </tr>\n",
       "    <tr>\n",
       "      <th>99998</th>\n",
       "      <td>7kl59</td>\n",
       "      <td>0.998163</td>\n",
       "      <td>-0.528582</td>\n",
       "      <td>1.583869</td>\n",
       "      <td>74.040764</td>\n",
       "    </tr>\n",
       "    <tr>\n",
       "      <th>99999</th>\n",
       "      <td>1CWhH</td>\n",
       "      <td>1.764754</td>\n",
       "      <td>-0.266417</td>\n",
       "      <td>5.722849</td>\n",
       "      <td>149.633246</td>\n",
       "    </tr>\n",
       "  </tbody>\n",
       "</table>\n",
       "<p>100000 rows × 5 columns</p>\n",
       "</div>"
      ],
      "text/plain": [
       "          id        f0        f1        f2     product\n",
       "0      txEyH  0.705745 -0.497823  1.221170  105.280062\n",
       "1      2acmU  1.334711 -0.340164  4.365080   73.037750\n",
       "2      409Wp  1.022732  0.151990  1.419926   85.265647\n",
       "3      iJLyR -0.032172  0.139033  2.978566  168.620776\n",
       "4      Xdl7t  1.988431  0.155413  4.751769  154.036647\n",
       "...      ...       ...       ...       ...         ...\n",
       "99995  DLsed  0.971957  0.370953  6.075346  110.744026\n",
       "99996  QKivN  1.392429 -0.382606  1.273912  122.346843\n",
       "99997  3rnvd  1.029585  0.018787 -1.348308   64.375443\n",
       "99998  7kl59  0.998163 -0.528582  1.583869   74.040764\n",
       "99999  1CWhH  1.764754 -0.266417  5.722849  149.633246\n",
       "\n",
       "[100000 rows x 5 columns]"
      ]
     },
     "execution_count": 18,
     "metadata": {},
     "output_type": "execute_result"
    }
   ],
   "source": [
    "#duplicados data_0\n",
    "data_0.duplicated().sum()\n",
    "data_0"
   ]
  },
  {
   "cell_type": "code",
   "execution_count": 19,
   "metadata": {},
   "outputs": [
    {
     "data": {
      "text/html": [
       "<div>\n",
       "<style scoped>\n",
       "    .dataframe tbody tr th:only-of-type {\n",
       "        vertical-align: middle;\n",
       "    }\n",
       "\n",
       "    .dataframe tbody tr th {\n",
       "        vertical-align: top;\n",
       "    }\n",
       "\n",
       "    .dataframe thead th {\n",
       "        text-align: right;\n",
       "    }\n",
       "</style>\n",
       "<table border=\"1\" class=\"dataframe\">\n",
       "  <thead>\n",
       "    <tr style=\"text-align: right;\">\n",
       "      <th></th>\n",
       "      <th>id</th>\n",
       "      <th>f0</th>\n",
       "      <th>f1</th>\n",
       "      <th>f2</th>\n",
       "      <th>product</th>\n",
       "    </tr>\n",
       "  </thead>\n",
       "  <tbody>\n",
       "    <tr>\n",
       "      <th>0</th>\n",
       "      <td>kBEdx</td>\n",
       "      <td>-15.001348</td>\n",
       "      <td>-8.276000</td>\n",
       "      <td>-0.005876</td>\n",
       "      <td>3.179103</td>\n",
       "    </tr>\n",
       "    <tr>\n",
       "      <th>1</th>\n",
       "      <td>62mP7</td>\n",
       "      <td>14.272088</td>\n",
       "      <td>-3.475083</td>\n",
       "      <td>0.999183</td>\n",
       "      <td>26.953261</td>\n",
       "    </tr>\n",
       "    <tr>\n",
       "      <th>2</th>\n",
       "      <td>vyE1P</td>\n",
       "      <td>6.263187</td>\n",
       "      <td>-5.948386</td>\n",
       "      <td>5.001160</td>\n",
       "      <td>134.766305</td>\n",
       "    </tr>\n",
       "    <tr>\n",
       "      <th>3</th>\n",
       "      <td>KcrkZ</td>\n",
       "      <td>-13.081196</td>\n",
       "      <td>-11.506057</td>\n",
       "      <td>4.999415</td>\n",
       "      <td>137.945408</td>\n",
       "    </tr>\n",
       "    <tr>\n",
       "      <th>4</th>\n",
       "      <td>AHL4O</td>\n",
       "      <td>12.702195</td>\n",
       "      <td>-8.147433</td>\n",
       "      <td>5.004363</td>\n",
       "      <td>134.766305</td>\n",
       "    </tr>\n",
       "    <tr>\n",
       "      <th>...</th>\n",
       "      <td>...</td>\n",
       "      <td>...</td>\n",
       "      <td>...</td>\n",
       "      <td>...</td>\n",
       "      <td>...</td>\n",
       "    </tr>\n",
       "    <tr>\n",
       "      <th>99995</th>\n",
       "      <td>QywKC</td>\n",
       "      <td>9.535637</td>\n",
       "      <td>-6.878139</td>\n",
       "      <td>1.998296</td>\n",
       "      <td>53.906522</td>\n",
       "    </tr>\n",
       "    <tr>\n",
       "      <th>99996</th>\n",
       "      <td>ptvty</td>\n",
       "      <td>-10.160631</td>\n",
       "      <td>-12.558096</td>\n",
       "      <td>5.005581</td>\n",
       "      <td>137.945408</td>\n",
       "    </tr>\n",
       "    <tr>\n",
       "      <th>99997</th>\n",
       "      <td>09gWa</td>\n",
       "      <td>-7.378891</td>\n",
       "      <td>-3.084104</td>\n",
       "      <td>4.998651</td>\n",
       "      <td>137.945408</td>\n",
       "    </tr>\n",
       "    <tr>\n",
       "      <th>99998</th>\n",
       "      <td>rqwUm</td>\n",
       "      <td>0.665714</td>\n",
       "      <td>-6.152593</td>\n",
       "      <td>1.000146</td>\n",
       "      <td>30.132364</td>\n",
       "    </tr>\n",
       "    <tr>\n",
       "      <th>99999</th>\n",
       "      <td>relB0</td>\n",
       "      <td>-3.426139</td>\n",
       "      <td>-7.794274</td>\n",
       "      <td>-0.003299</td>\n",
       "      <td>3.179103</td>\n",
       "    </tr>\n",
       "  </tbody>\n",
       "</table>\n",
       "<p>100000 rows × 5 columns</p>\n",
       "</div>"
      ],
      "text/plain": [
       "          id         f0         f1        f2     product\n",
       "0      kBEdx -15.001348  -8.276000 -0.005876    3.179103\n",
       "1      62mP7  14.272088  -3.475083  0.999183   26.953261\n",
       "2      vyE1P   6.263187  -5.948386  5.001160  134.766305\n",
       "3      KcrkZ -13.081196 -11.506057  4.999415  137.945408\n",
       "4      AHL4O  12.702195  -8.147433  5.004363  134.766305\n",
       "...      ...        ...        ...       ...         ...\n",
       "99995  QywKC   9.535637  -6.878139  1.998296   53.906522\n",
       "99996  ptvty -10.160631 -12.558096  5.005581  137.945408\n",
       "99997  09gWa  -7.378891  -3.084104  4.998651  137.945408\n",
       "99998  rqwUm   0.665714  -6.152593  1.000146   30.132364\n",
       "99999  relB0  -3.426139  -7.794274 -0.003299    3.179103\n",
       "\n",
       "[100000 rows x 5 columns]"
      ]
     },
     "execution_count": 19,
     "metadata": {},
     "output_type": "execute_result"
    }
   ],
   "source": [
    "#duplicados data_1\n",
    "data_1.duplicated().sum()\n",
    "data_1"
   ]
  },
  {
   "cell_type": "code",
   "execution_count": 20,
   "metadata": {},
   "outputs": [
    {
     "data": {
      "text/html": [
       "<div>\n",
       "<style scoped>\n",
       "    .dataframe tbody tr th:only-of-type {\n",
       "        vertical-align: middle;\n",
       "    }\n",
       "\n",
       "    .dataframe tbody tr th {\n",
       "        vertical-align: top;\n",
       "    }\n",
       "\n",
       "    .dataframe thead th {\n",
       "        text-align: right;\n",
       "    }\n",
       "</style>\n",
       "<table border=\"1\" class=\"dataframe\">\n",
       "  <thead>\n",
       "    <tr style=\"text-align: right;\">\n",
       "      <th></th>\n",
       "      <th>id</th>\n",
       "      <th>f0</th>\n",
       "      <th>f1</th>\n",
       "      <th>f2</th>\n",
       "      <th>product</th>\n",
       "    </tr>\n",
       "  </thead>\n",
       "  <tbody>\n",
       "    <tr>\n",
       "      <th>0</th>\n",
       "      <td>fwXo0</td>\n",
       "      <td>-1.146987</td>\n",
       "      <td>0.963328</td>\n",
       "      <td>-0.828965</td>\n",
       "      <td>27.758673</td>\n",
       "    </tr>\n",
       "    <tr>\n",
       "      <th>1</th>\n",
       "      <td>WJtFt</td>\n",
       "      <td>0.262778</td>\n",
       "      <td>0.269839</td>\n",
       "      <td>-2.530187</td>\n",
       "      <td>56.069697</td>\n",
       "    </tr>\n",
       "    <tr>\n",
       "      <th>2</th>\n",
       "      <td>ovLUW</td>\n",
       "      <td>0.194587</td>\n",
       "      <td>0.289035</td>\n",
       "      <td>-5.586433</td>\n",
       "      <td>62.871910</td>\n",
       "    </tr>\n",
       "    <tr>\n",
       "      <th>3</th>\n",
       "      <td>q6cA6</td>\n",
       "      <td>2.236060</td>\n",
       "      <td>-0.553760</td>\n",
       "      <td>0.930038</td>\n",
       "      <td>114.572842</td>\n",
       "    </tr>\n",
       "    <tr>\n",
       "      <th>4</th>\n",
       "      <td>WPMUX</td>\n",
       "      <td>-0.515993</td>\n",
       "      <td>1.716266</td>\n",
       "      <td>5.899011</td>\n",
       "      <td>149.600746</td>\n",
       "    </tr>\n",
       "    <tr>\n",
       "      <th>...</th>\n",
       "      <td>...</td>\n",
       "      <td>...</td>\n",
       "      <td>...</td>\n",
       "      <td>...</td>\n",
       "      <td>...</td>\n",
       "    </tr>\n",
       "    <tr>\n",
       "      <th>99995</th>\n",
       "      <td>4GxBu</td>\n",
       "      <td>-1.777037</td>\n",
       "      <td>1.125220</td>\n",
       "      <td>6.263374</td>\n",
       "      <td>172.327046</td>\n",
       "    </tr>\n",
       "    <tr>\n",
       "      <th>99996</th>\n",
       "      <td>YKFjq</td>\n",
       "      <td>-1.261523</td>\n",
       "      <td>-0.894828</td>\n",
       "      <td>2.524545</td>\n",
       "      <td>138.748846</td>\n",
       "    </tr>\n",
       "    <tr>\n",
       "      <th>99997</th>\n",
       "      <td>tKPY3</td>\n",
       "      <td>-1.199934</td>\n",
       "      <td>-2.957637</td>\n",
       "      <td>5.219411</td>\n",
       "      <td>157.080080</td>\n",
       "    </tr>\n",
       "    <tr>\n",
       "      <th>99998</th>\n",
       "      <td>nmxp2</td>\n",
       "      <td>-2.419896</td>\n",
       "      <td>2.417221</td>\n",
       "      <td>-5.548444</td>\n",
       "      <td>51.795253</td>\n",
       "    </tr>\n",
       "    <tr>\n",
       "      <th>99999</th>\n",
       "      <td>V9kWn</td>\n",
       "      <td>-2.551421</td>\n",
       "      <td>-2.025625</td>\n",
       "      <td>6.090891</td>\n",
       "      <td>102.775767</td>\n",
       "    </tr>\n",
       "  </tbody>\n",
       "</table>\n",
       "<p>100000 rows × 5 columns</p>\n",
       "</div>"
      ],
      "text/plain": [
       "          id        f0        f1        f2     product\n",
       "0      fwXo0 -1.146987  0.963328 -0.828965   27.758673\n",
       "1      WJtFt  0.262778  0.269839 -2.530187   56.069697\n",
       "2      ovLUW  0.194587  0.289035 -5.586433   62.871910\n",
       "3      q6cA6  2.236060 -0.553760  0.930038  114.572842\n",
       "4      WPMUX -0.515993  1.716266  5.899011  149.600746\n",
       "...      ...       ...       ...       ...         ...\n",
       "99995  4GxBu -1.777037  1.125220  6.263374  172.327046\n",
       "99996  YKFjq -1.261523 -0.894828  2.524545  138.748846\n",
       "99997  tKPY3 -1.199934 -2.957637  5.219411  157.080080\n",
       "99998  nmxp2 -2.419896  2.417221 -5.548444   51.795253\n",
       "99999  V9kWn -2.551421 -2.025625  6.090891  102.775767\n",
       "\n",
       "[100000 rows x 5 columns]"
      ]
     },
     "execution_count": 20,
     "metadata": {},
     "output_type": "execute_result"
    }
   ],
   "source": [
    "#duplicados data_2\n",
    "data_2.duplicated().sum()\n",
    "data_2"
   ]
  },
  {
   "cell_type": "markdown",
   "metadata": {},
   "source": [
    "Conclusión: No se encontraron datos nulos ni duplicados en ninguno de los datasets, por lo que no se requieren pasos adicionales de limpieza antes del modelado.\n",
    "\n",
    "En general todos los datos parecen normales sin valores atípicos extremos.\n",
    "\n",
    "algo a tomar en cuenta es la variabilidad en f0 en el dataset 1 es considerablemente mayor, lo que podría influir en el modelado y predicciones."
   ]
  },
  {
   "cell_type": "markdown",
   "metadata": {},
   "source": [
    "1.1. Dividir los Datos en Entrenamiento y Validación data_0"
   ]
  },
  {
   "cell_type": "code",
   "execution_count": 21,
   "metadata": {},
   "outputs": [],
   "source": [
    "#dividir el conjunto de datos de la region \"data_0\"\n",
    "\n",
    "features_0= data_0[[\"f0\", \"f1\", \"f2\"]] #se encontro un error float: 'sn8dh', por lo que se excluye \"id\"\n",
    "target_0= data_0[\"product\"]\n",
    "\n",
    "features_train_0, features_valid_0, target_train_0, target_valid_0= train_test_split(\n",
    "    features_0, target_0, test_size=0.25, random_state=12345)"
   ]
  },
  {
   "cell_type": "markdown",
   "metadata": {},
   "source": [
    "1.2. Entrenar el Modelo Predictivo"
   ]
  },
  {
   "cell_type": "code",
   "execution_count": 22,
   "metadata": {},
   "outputs": [
    {
     "data": {
      "text/plain": [
       "array([ 95.89495185,  77.57258261,  77.89263965, ...,  61.50983303,\n",
       "       118.18039721, 118.16939229])"
      ]
     },
     "execution_count": 22,
     "metadata": {},
     "output_type": "execute_result"
    }
   ],
   "source": [
    "#entrenar el modelo con data_0\n",
    "model_0 = LinearRegression()\n",
    "model_0.fit(features_train_0, target_train_0)\n",
    "\n",
    "# Hacer predicciones en el conjunto de validación\n",
    "predictions_valid_0 = model_0.predict(features_valid_0)\n",
    "predictions_valid_0"
   ]
  },
  {
   "cell_type": "markdown",
   "metadata": {},
   "source": [
    "1.3. Evaluar el Modelo"
   ]
  },
  {
   "cell_type": "code",
   "execution_count": 23,
   "metadata": {},
   "outputs": [
    {
     "name": "stdout",
     "output_type": "stream",
     "text": [
      "RMSE para la región_0: 37.5794217150813\n"
     ]
    }
   ],
   "source": [
    "#se la raiz del error cuadratico medio\n",
    "rmse_0 = mean_squared_error(target_valid_0, predictions_valid_0, squared= False)\n",
    "print(f\"RMSE para la región_0: {rmse_0}\")"
   ]
  },
  {
   "cell_type": "markdown",
   "metadata": {},
   "source": [
    "1.4. Top Mejores 200 pozos"
   ]
  },
  {
   "cell_type": "code",
   "execution_count": 24,
   "metadata": {},
   "outputs": [
    {
     "data": {
      "text/plain": [
       "array([20340, 24160, 24051,  7890,  7888,  5572, 24923, 24747, 11157,\n",
       "        4495, 23892,  6769, 12633, 13788, 21726, 14037,  1462, 10300,\n",
       "       18135,  9174, 13328, 11304, 22424, 23102,  5954, 16616,  1111,\n",
       "        6801,  4408,   551,  2207,   513, 14407,  1421, 15449, 18967,\n",
       "       13880, 12783, 23141, 16366,  8650, 12113,   688, 21036, 20260,\n",
       "        9496, 24542, 19194,  9804, 18674,  2398,  9455, 10827, 11571,\n",
       "       18273, 14182,  1283, 19109, 12190, 15479,  6627, 12957,  3663,\n",
       "       19422,  2057, 20848, 12050, 21861, 12944, 21578, 20783, 15774,\n",
       "       10942, 15504, 23649, 11601,  7954,  6948,  5727, 22589, 12213,\n",
       "       20999,  6036, 10412, 18405,  2240,  4855,  8209, 12906, 10044,\n",
       "       19808,  6023, 11652, 21980, 13367,  2201, 23360,  9981,  7943,\n",
       "       22609,  7212,  3076,  7758, 23352,  6843,  8121, 10396, 18204,\n",
       "       22119,  5485, 14791, 21277, 14562,  7050,   464,  7153, 15857,\n",
       "       24765,   364,  5000, 23837, 23188, 23144, 19843,  4013, 14418,\n",
       "        2426,  1935,  2821, 18495, 10408,  1288, 12644, 23869, 11411,\n",
       "       24716,   298, 15650,  6767, 22241,  3517, 23028, 23186, 15017,\n",
       "       24128,  9776, 13490,   468,  4395, 12621,  2444,  9219, 17297,\n",
       "         284, 24231, 20684, 16603, 20670,   738, 11752,  6998,   687,\n",
       "       24741, 20163, 19496, 18791, 11824,  4150,  8421,   285,  4521,\n",
       "        7124, 13480, 10701,  2062,  3694, 10076,  8564, 11733, 22565,\n",
       "       19118, 19618, 24015,  1736,  9210,  9610,  7120, 14979, 13371,\n",
       "       24452, 12461, 14707, 14125,  8993,  4296, 23388, 11584, 10015,\n",
       "         219,  9317])"
      ]
     },
     "execution_count": 24,
     "metadata": {},
     "output_type": "execute_result"
    }
   ],
   "source": [
    "#se lelecciona los 200 pozos mejores pozos\n",
    "\n",
    "top_200_0 = predictions_valid_0.argsort()[-200:]\n",
    "top_200_0"
   ]
  },
  {
   "cell_type": "markdown",
   "metadata": {},
   "source": [
    "1.5. Calculo de Ganancia "
   ]
  },
  {
   "cell_type": "code",
   "execution_count": 25,
   "metadata": {},
   "outputs": [
    {
     "name": "stdout",
     "output_type": "stream",
     "text": [
      "ganacia esperada por region_0: 39960488.77465129\n"
     ]
    }
   ],
   "source": [
    "#calcular la ganancia potencial, tomando en cuentra el ingreso=4500 por unidad y un presupuesto=100 millones\n",
    "ingreso_por_unidad= 4500\n",
    "presupuesto= 100000000\n",
    "\n",
    "ganancia_0= predictions_valid_0[top_200_0].sum() * ingreso_por_unidad - presupuesto \n",
    "\n",
    "print(\"ganacia esperada por region_0:\", ganancia_0)"
   ]
  },
  {
   "cell_type": "markdown",
   "metadata": {},
   "source": [
    "1.6. Evaluar Riesgos con Bootstrapping"
   ]
  },
  {
   "cell_type": "code",
   "execution_count": 26,
   "metadata": {},
   "outputs": [
    {
     "name": "stdout",
     "output_type": "stream",
     "text": [
      "Promedio de ganancias: 39975254.25479498\n",
      "Intervalo de confianza del 95%: [39195008.60983573 40834006.6540674 ]\n",
      "Riesgo de pérdidas: 0.0%\n"
     ]
    }
   ],
   "source": [
    "#bootstrapping con 1000 muestras para evaluar la distribución de las ganancias\n",
    "np.random.seed(12345)\n",
    "\n",
    "ganancias = []\n",
    "for i in range(1000):\n",
    "    sample = np.random.choice(predictions_valid_0[top_200_0], size=200, replace=True)\n",
    "    ganancia = sample.sum() * ingreso_por_unidad - presupuesto\n",
    "    ganancias.append(ganancia)\n",
    "\n",
    "ganancias = np.array(ganancias)\n",
    "print(f\"Promedio de ganancias: {ganancias.mean()}\")\n",
    "print(f\"Intervalo de confianza del 95%: {np.percentile(ganancias, [2.5, 97.5])}\")\n",
    "print(f\"Riesgo de pérdidas: {(ganancias < 0).mean() * 100}%\")"
   ]
  },
  {
   "cell_type": "markdown",
   "metadata": {},
   "source": [
    "2.1. Dividir los Datos en Entrenamiento y Validación data_1"
   ]
  },
  {
   "cell_type": "code",
   "execution_count": 27,
   "metadata": {},
   "outputs": [],
   "source": [
    "#dividir datos de la región 2\n",
    "features_1= data_1[[\"f0\", \"f1\", \"f2\"]]\n",
    "target_1= data_1[\"product\"]\n",
    "\n",
    "features_train_1, features_valid_1, target_train_1, target_valid_1= train_test_split(\n",
    "    features_1, target_1, test_size=0.25, random_state= 12345)"
   ]
  },
  {
   "cell_type": "markdown",
   "metadata": {},
   "source": [
    "2.2. Entrenar el Modelo Predictivo data_1"
   ]
  },
  {
   "cell_type": "code",
   "execution_count": 28,
   "metadata": {},
   "outputs": [
    {
     "data": {
      "text/plain": [
       "array([ 82.66331365,  54.43178616,  29.74875995, ..., 137.87934053,\n",
       "        83.76196568,  53.95846638])"
      ]
     },
     "execution_count": 28,
     "metadata": {},
     "output_type": "execute_result"
    }
   ],
   "source": [
    "#entrenando modelo con data_1\n",
    "model_1= LinearRegression()\n",
    "model_1.fit(features_train_1, target_train_1)\n",
    "\n",
    "#conjunto de validación\n",
    "predictions_valid_1= model_1.predict(features_valid_1)\n",
    "predictions_valid_1"
   ]
  },
  {
   "cell_type": "markdown",
   "metadata": {},
   "source": [
    "2.3. Evaluar el modelo data_1"
   ]
  },
  {
   "cell_type": "code",
   "execution_count": 29,
   "metadata": {},
   "outputs": [
    {
     "name": "stdout",
     "output_type": "stream",
     "text": [
      "RMSE de la región_1: 0.893099286775617\n"
     ]
    }
   ],
   "source": [
    "#raiz del erro cuadratico medio\n",
    "rmse= mean_squared_error(target_valid_1, predictions_valid_1, squared= False)\n",
    "\n",
    "print(f\"RMSE de la región_1: {rmse}\")"
   ]
  },
  {
   "cell_type": "markdown",
   "metadata": {},
   "source": [
    "2.4. Top mejores pozos"
   ]
  },
  {
   "cell_type": "code",
   "execution_count": 30,
   "metadata": {},
   "outputs": [
    {
     "data": {
      "text/plain": [
       "array([ 9693, 17108,  2257,  8040, 12774, 23096, 21255, 15580, 19693,\n",
       "        7315, 15496, 11117,  4562, 13701,  1246, 16219, 11313, 20439,\n",
       "       23418, 17138,  4713, 10842, 24350, 10137, 20631, 18035, 17534,\n",
       "       13461,  3518, 10355,   132, 21768, 16883, 13793,  1549, 17216,\n",
       "       20163,  5783,  6851,  9701, 21229,  5105, 20349, 12746,  1803,\n",
       "        8742, 17001,  5391,  9263,  1365,  9513, 17990, 24816, 21442,\n",
       "        7934, 10388, 24906,  1300, 10131, 14122, 12877, 16730,  5118,\n",
       "       22180, 20852, 12675,  9905, 19696,  6623, 24719, 18017,  8627,\n",
       "        2846, 22656, 12324,   587,  2871,  4525, 14526,  8499, 17174,\n",
       "       16168, 15987, 17214,  9763,  9714,  7525, 13317, 16483, 11706,\n",
       "       11856,  7611, 24759,  1033, 20933,  5618, 13784, 16966, 15690,\n",
       "        3473,  6587,  7908, 15563,  8404,  1747, 13769,  7632, 16056,\n",
       "       23595, 14368, 17452, 23583,  7412, 18787, 11705,  9664, 10797,\n",
       "       12125, 22350, 11452,  8240, 18599, 21128, 15958, 23946, 18894,\n",
       "       19571,  9311,  4208,  7725, 19635,  2394, 15251, 12637,  1925,\n",
       "        6141, 17856, 14819, 17195,  5087, 24020,  1214, 15518, 14838,\n",
       "       22627,  4922,  4031, 11592,  7341, 16727, 14375, 17312, 15188,\n",
       "        7003, 10890, 11958,  7009,  4492, 16184, 23621, 16247, 11001,\n",
       "        4921,  1532,  2974, 10989, 21425, 18835, 21985, 20469, 14057,\n",
       "        4735, 22286, 22336, 21658,  2787, 21352, 13334,  1143, 10752,\n",
       "       16713, 10253,  3770,  8845, 23326, 22498,  6030,  7957, 22201,\n",
       "       18947, 17756, 19052, 24724,  5608, 10735,  4285,  1178,  8755,\n",
       "        7777, 20430])"
      ]
     },
     "execution_count": 30,
     "metadata": {},
     "output_type": "execute_result"
    }
   ],
   "source": [
    "top_200_1= predictions_valid_1.argsort()[-200:]\n",
    "top_200_1"
   ]
  },
  {
   "cell_type": "markdown",
   "metadata": {},
   "source": [
    "2.5. Calculo de ganacia data_1"
   ]
  },
  {
   "cell_type": "code",
   "execution_count": 31,
   "metadata": {},
   "outputs": [
    {
     "name": "stdout",
     "output_type": "stream",
     "text": [
      "Ganancia esperada por región_1 24857120.51973544\n"
     ]
    }
   ],
   "source": [
    "ingreso_por_unidad= 4500\n",
    "presupuesto= 100_000_000 #100 mil millones\n",
    "ganacia_1= predictions_valid_1[top_200_1].sum() * ingreso_por_unidad - presupuesto\n",
    "\n",
    "print(\"Ganancia esperada por región_1\", ganacia_1)"
   ]
  },
  {
   "cell_type": "markdown",
   "metadata": {},
   "source": [
    "2.6. Valuar riesgo con bootstapping"
   ]
  },
  {
   "cell_type": "code",
   "execution_count": 32,
   "metadata": {},
   "outputs": [
    {
     "name": "stdout",
     "output_type": "stream",
     "text": [
      "Promedio de ganancias: 24857800.381858665\n",
      "Intervalo de confianza del 95%: [24824154.09961241 24896158.21681239]\n",
      "Riesgo de perdida: 0.0%\n"
     ]
    }
   ],
   "source": [
    "#bootstrapping con 1000 muestras\n",
    "np.random.seed(12345)\n",
    "\n",
    "ganancias= []\n",
    "\n",
    "for i in range(1000):\n",
    "    sample = np.random.choice(predictions_valid_1[top_200_1], size= 200, replace= True)\n",
    "    ganancia= sample.sum() * ingreso_por_unidad - presupuesto\n",
    "    ganancias.append(ganancia)\n",
    "    \n",
    "ganancias= np.array(ganancias)\n",
    "\n",
    "print(f\"Promedio de ganancias: {ganancias.mean()}\")\n",
    "print(f\"Intervalo de confianza del 95%: {np.percentile(ganancias, [2.5, 97.5])}\")\n",
    "print(f\"Riesgo de perdida: {(ganancias < 0).mean() * 100}%\")"
   ]
  },
  {
   "cell_type": "markdown",
   "metadata": {},
   "source": [
    "3.1. Dividir los Datos en Entrenamiento y Validación data_2"
   ]
  },
  {
   "cell_type": "code",
   "execution_count": 33,
   "metadata": {},
   "outputs": [],
   "source": [
    "#dividir datos de la región 2\n",
    "features_2= data_2[[\"f0\", \"f1\", \"f2\"]]\n",
    "target_2= data_2[\"product\"]\n",
    "\n",
    "features_train_2, features_valid_2, target_train_2, target_valid_2= train_test_split(\n",
    "    features_2, target_2, test_size=0.25, random_state= 12345)"
   ]
  },
  {
   "cell_type": "markdown",
   "metadata": {},
   "source": [
    "3.2. Entrenar el Modelo Predictivo data_2"
   ]
  },
  {
   "cell_type": "code",
   "execution_count": 34,
   "metadata": {},
   "outputs": [
    {
     "data": {
      "text/plain": [
       "array([ 93.59963303,  75.10515854,  90.06680936, ...,  99.40728116,\n",
       "        77.77991248, 129.03241718])"
      ]
     },
     "execution_count": 34,
     "metadata": {},
     "output_type": "execute_result"
    }
   ],
   "source": [
    "#entrenando modelo con data_2\n",
    "model_2= LinearRegression()\n",
    "model_2.fit(features_train_2, target_train_2)\n",
    "\n",
    "#conjunto de validación\n",
    "predictions_valid_2= model_2.predict(features_valid_2)\n",
    "predictions_valid_2"
   ]
  },
  {
   "cell_type": "markdown",
   "metadata": {},
   "source": [
    "3.3. Evaluar el modelo data_2"
   ]
  },
  {
   "cell_type": "code",
   "execution_count": 35,
   "metadata": {},
   "outputs": [
    {
     "name": "stdout",
     "output_type": "stream",
     "text": [
      "RMSE de la región_2: 40.02970873393434\n"
     ]
    }
   ],
   "source": [
    "#raiz del erro cuadratico medio\n",
    "rmse= mean_squared_error(target_valid_2, predictions_valid_2, squared= False)\n",
    "\n",
    "print(f\"RMSE de la región_2: {rmse}\")"
   ]
  },
  {
   "cell_type": "markdown",
   "metadata": {},
   "source": [
    "3.4. Top mejores pozos"
   ]
  },
  {
   "cell_type": "code",
   "execution_count": 36,
   "metadata": {},
   "outputs": [
    {
     "data": {
      "text/plain": [
       "array([23447, 22669, 11122, 18126,  5541,   105,  6122,  1239, 22337,\n",
       "        6701,  6329, 10860,  3323, 24543, 18677, 16263, 12376,  3085,\n",
       "       22148,    59, 19693, 19051, 10753,  8789,  8632,  1461,   417,\n",
       "       18631, 24579, 16134,  4630,  9393, 16542, 16613, 11763,  6559,\n",
       "        2476,  1403,  6268, 19484,  9174, 20504,  9618,   255, 21567,\n",
       "       13584, 13328, 19526,  9018,   102,  4288,  4781, 21156, 24533,\n",
       "       11828, 14921, 11999, 20292,  9848, 13944,  9355,  3529, 10902,\n",
       "       19710, 18486,  4386, 11222, 22188,  5949,  4250,  5571, 12926,\n",
       "       11041,  9542, 17555, 10213,  4492,  8134,  5163,  3258,  9114,\n",
       "        2168, 23180,  5612, 24960, 22218, 12068,   929,  5646,  4803,\n",
       "       13407,  7714, 22588,  9826, 12605,   720, 12906, 15587,  7013,\n",
       "        3968,  7316,  7978, 11057, 12130,  8053, 19582, 18169,  9297,\n",
       "         909, 16198, 19220, 24439, 10370, 12767, 23707, 18698, 17074,\n",
       "       22152,  1691,  5134, 17051, 12728, 16866,  8896, 19265, 19383,\n",
       "       19910, 18015, 24811,  1826,  2609, 11160, 17635, 11983,  8045,\n",
       "       24956, 23475, 20585, 17775, 10136, 16488, 22400, 11741, 17988,\n",
       "       11640, 18543,  5641, 20518, 12915,  5455, 17076, 22882,  7222,\n",
       "       20744,   794,  7068, 22618, 16434,  1875, 20250, 13864, 24426,\n",
       "       16674, 13759,  6839,   945, 11974, 22877, 19411, 14179, 19380,\n",
       "        4684, 23738,  4017, 12094,  8682, 17997,  7384, 13318, 22523,\n",
       "        5316, 20309, 13712,  5619, 17373, 12157,  4018, 14264,  1923,\n",
       "       21633, 19063, 24980, 22066,  6095,  1850,  6751,  1581,  7811,\n",
       "       24690, 22636])"
      ]
     },
     "execution_count": 36,
     "metadata": {},
     "output_type": "execute_result"
    }
   ],
   "source": [
    "top_200_2= predictions_valid_2.argsort()[-200:]\n",
    "top_200_2"
   ]
  },
  {
   "cell_type": "markdown",
   "metadata": {},
   "source": [
    "3.5. Calculo de ganancia data_2"
   ]
  },
  {
   "cell_type": "code",
   "execution_count": 37,
   "metadata": {},
   "outputs": [
    {
     "name": "stdout",
     "output_type": "stream",
     "text": [
      "Ganancia esperada por región_2: 33217543.96243258\n"
     ]
    }
   ],
   "source": [
    "ingreso_por_unidad_2= 4500\n",
    "presupuesto_2= 100_000_000 #100 mil millones\n",
    "ganacia_2= predictions_valid_2[top_200_2].sum() * ingreso_por_unidad_2 - presupuesto_2\n",
    "\n",
    "print(\"Ganancia esperada por región_2:\", ganacia_2)"
   ]
  },
  {
   "cell_type": "markdown",
   "metadata": {},
   "source": [
    "3.6. Valuar riesgo con bootstapping"
   ]
  },
  {
   "cell_type": "code",
   "execution_count": 38,
   "metadata": {},
   "outputs": [
    {
     "name": "stdout",
     "output_type": "stream",
     "text": [
      "Promedio de ganancias: 33228946.15852522\n",
      "Intervalo de confianza del 95%: [32590091.08749837 33942459.36695047]\n",
      "Riesgo de perdida: 0.0%\n"
     ]
    }
   ],
   "source": [
    "#bootstrapping con 1000 muestras\n",
    "np.random.seed(12345)\n",
    "\n",
    "ganancias= []\n",
    "\n",
    "for i in range(1000):\n",
    "    sample = np.random.choice(predictions_valid_2[top_200_2], size= 200, replace= True)\n",
    "    ganancia= sample.sum() * ingreso_por_unidad_2 - presupuesto_2\n",
    "    ganancias.append(ganancia)\n",
    "    \n",
    "ganancias= np.array(ganancias)\n",
    "\n",
    "print(f\"Promedio de ganancias: {ganancias.mean()}\")\n",
    "print(f\"Intervalo de confianza del 95%: {np.percentile(ganancias, [2.5, 97.5])}\")\n",
    "print(f\"Riesgo de perdida: {(ganancias < 0).mean() * 100}%\")"
   ]
  },
  {
   "cell_type": "markdown",
   "metadata": {},
   "source": [
    "Resultados de data=0, data=1 y data=2.\n",
    "\n",
    "Región 0:\n",
    "    RMSE: 37.58\n",
    "    Ganancia esperada: 39,960,488.77\n",
    "    Promedio de ganancias (bootstrapping): 39,975,254.25\n",
    "    Intervalo de confianza del 95%: [39,195,008.61, 40,834,006.65]\n",
    "    Riesgo de pérdidas: 0.0%\n",
    "    \n",
    "Región 1:\n",
    "    RMSE: 0.89\n",
    "    Ganancia esperada: 24,857,120.52\n",
    "    Promedio de ganancias (bootstrapping): 24,857,800.38\n",
    "    Intervalo de confianza del 95%: [24,824,154.10, 24,896,158.22]\n",
    "    Riesgo de pérdidas: 0.0%\n",
    "    \n",
    "Región 2:\n",
    "    RMSE: 40.03\n",
    "    Ganancia esperada: 33,217,543.96\n",
    "    Promedio de ganancias (bootstrapping): 33,228,946.16\n",
    "    Intervalo de confianza del 95%: [32,590,091.09, 33,942,459.37]\n",
    "    Riesgo de pérdidas: 0.0%\n"
   ]
  },
  {
   "cell_type": "markdown",
   "metadata": {},
   "source": [
    "Gráfica de RMSE por Región"
   ]
  },
  {
   "cell_type": "code",
   "execution_count": 40,
   "metadata": {},
   "outputs": [
    {
     "data": {
      "image/png": "[encoded data removed]",
      "text/plain": [
       "<Figure size 800x500 with 1 Axes>"
      ]
     },
     "metadata": {},
     "output_type": "display_data"
    }
   ],
   "source": [
    "regiones = ['Región 0', 'Región 1', 'Región 2']\n",
    "rmse = [37.58, 0.89, 40.03]\n",
    "\n",
    "#gráfica de RMSE por región\n",
    "plt.figure(figsize=(8, 5))\n",
    "plt.bar(regiones, rmse, color=['blue', 'orange', 'green'])\n",
    "plt.title('RMSE por Región')\n",
    "plt.xlabel('Región')\n",
    "plt.ylabel('RMSE')\n",
    "plt.grid(axis='y', linestyle='--', alpha=0.6)\n",
    "plt.show()"
   ]
  },
  {
   "cell_type": "markdown",
   "metadata": {},
   "source": [
    "Gráfica de Ganancia Esperada por Región"
   ]
  },
  {
   "cell_type": "code",
   "execution_count": 42,
   "metadata": {},
   "outputs": [
    {
     "data": {
      "image/png": "[encoded data removed]",
      "text/plain": [
       "<Figure size 800x500 with 1 Axes>"
      ]
     },
     "metadata": {},
     "output_type": "display_data"
    }
   ],
   "source": [
    "regiones = ['Región 0', 'Región 1', 'Región 2']\n",
    "ganancias_esperadas = [39960488.77, 24857120.52, 33217543.96]\n",
    "\n",
    "#gráfica de ganancia esperada\n",
    "plt.figure(figsize=(8, 5))\n",
    "plt.bar(regiones, ganancias_esperadas, color=['blue', 'orange', 'green'])\n",
    "plt.title('Ganancia Esperada por Región')\n",
    "plt.xlabel('Región')\n",
    "plt.ylabel('Ganancia Esperada')\n",
    "plt.grid(axis='y', linestyle='--', alpha=0.6)\n",
    "plt.show()"
   ]
  },
  {
   "cell_type": "markdown",
   "metadata": {},
   "source": [
    "Gráfica de Promedio de Ganancias con Intervalos de Confianza"
   ]
  },
  {
   "cell_type": "code",
   "execution_count": 44,
   "metadata": {},
   "outputs": [
    {
     "data": {
      "image/png": "[encoded data removed]",
      "text/plain": [
       "<Figure size 800x500 with 1 Axes>"
      ]
     },
     "metadata": {},
     "output_type": "display_data"
    }
   ],
   "source": [
    "regiones = ['Región 0', 'Región 1', 'Región 2']\n",
    "promedios_ganancias = [39975254.25, 24857800.38, 33228946.16]\n",
    "intervalos_confianza = [(39195008.61, 40834006.65), (24824154.10, 24896158.22), (32590091.09, 33942459.37)]\n",
    "\n",
    "# gráfica de promedio de ganancias\n",
    "plt.figure(figsize=(8, 5))\n",
    "plt.bar(regiones, promedios_ganancias, color=['blue', 'orange', 'green'], \n",
    "        yerr=[(x[1] - x[0]) / 2 for x in intervalos_confianza], capsize=5)\n",
    "plt.title('Promedio de Ganancias con Intervalos de Confianza')\n",
    "plt.xlabel('Región')\n",
    "plt.ylabel('Promedio de Ganancias')\n",
    "plt.grid(axis='y', linestyle='--', alpha=0.6)\n",
    "plt.show()"
   ]
  },
  {
   "cell_type": "markdown",
   "metadata": {},
   "source": [
    "Gráfica de Riesgo de Pérdidas por Región"
   ]
  },
  {
   "cell_type": "code",
   "execution_count": 50,
   "metadata": {},
   "outputs": [
    {
     "data": {
      "image/png": "[encoded data removed]",
      "text/plain": [
       "<Figure size 800x500 with 1 Axes>"
      ]
     },
     "metadata": {},
     "output_type": "display_data"
    }
   ],
   "source": [
    "# Se definó las regiones y los riesgos\n",
    "regiones = ['Región 0', 'Región 1', 'Región 2']\n",
    "riesgo_perdidas = [0.0, 0.0, 0.0]\n",
    "\n",
    "# la gráfica\n",
    "plt.figure(figsize=(8, 5))\n",
    "plt.bar(regiones, riesgo_perdidas, color=['blue', 'orange', 'green'])\n",
    "plt.title('Riesgo de Pérdidas por Región')\n",
    "plt.xlabel('Región')\n",
    "plt.ylabel('Riesgo de Pérdidas (%)')\n",
    "plt.grid(axis='y', linestyle='--', alpha=0.6)\n",
    "\n",
    "# se añaden etiquetas para las barras\n",
    "for i, v in enumerate(riesgo_perdidas):\n",
    "    plt.text(i, v + 0.01, f'{v}%', ha='center', color='black')\n",
    "    \n",
    "plt.figtext(0.5, -0.1, 'Conclusión: Los \"Riesgo de Pérdidas\" es 0% para todas las regiones, lo que significa que no hay barras visibles en la gráfica.', \n",
    "            ha='center', fontsize=10, color='darkred')\n",
    "plt.show()\n"
   ]
  },
  {
   "cell_type": "markdown",
   "metadata": {},
   "source": [
    "Conclusión: \n",
    "\n",
    "Región 0 tiene la mayor ganancia esperada y el mayor promedio de ganancias con un intervalo de confianza estrecho.\n",
    "\n",
    "Región 1 tiene el RMSE más bajo, pero su ganancia esperada son menor.\n",
    "\n",
    "Región 2 tiene un rendimiento intermedio en términos de ganancias pero su RMSE es mayor que el de la región 0.\n",
    "\n",
    "\n",
    "La mejor opcion es  la \"Región 0\" para abrir los 200 nuevos pozos de petróleo, ya que ofrece el mayor beneficio financiero con un riesgo muy bajo."
   ]
  },
  {
   "cell_type": "markdown",
   "metadata": {},
   "source": [
    "Se revisa el sobre ajuste"
   ]
  },
  {
   "cell_type": "code",
   "execution_count": 48,
   "metadata": {},
   "outputs": [
    {
     "name": "stdout",
     "output_type": "stream",
     "text": [
      "Región 0:\n",
      "RMSE en entrenamiento: 37.72999219904026\n",
      "RMSE en validación: 37.5794217150813\n",
      "\n",
      "Región 1:\n",
      "RMSE en entrenamiento: 0.8894720773917386\n",
      "RMSE en validación: 0.893099286775617\n",
      "\n",
      "Región 2:\n",
      "RMSE en entrenamiento: 40.06425978832384\n",
      "RMSE en validación: 40.02970873393434\n"
     ]
    }
   ],
   "source": [
    "# Función para calcular el RMSE en entrenamiento y validación\n",
    "def evaluar_overfitting(model, features_train, target_train, features_valid, target_valid):\n",
    "    # Predicciones en el conjunto de entrenamiento\n",
    "    predictions_train = model.predict(features_train)\n",
    "    rmse_train = mean_squared_error(target_train, predictions_train, squared=False)\n",
    "    \n",
    "    # Predicciones en el conjunto de validación\n",
    "    predictions_valid = model.predict(features_valid)\n",
    "    rmse_valid = mean_squared_error(target_valid, predictions_valid, squared=False)\n",
    "    \n",
    "    print(f\"RMSE en entrenamiento: {rmse_train}\")\n",
    "    print(f\"RMSE en validación: {rmse_valid}\")\n",
    "\n",
    "# Aplicar la función a cada modelo entrenado\n",
    "print(\"Región 0:\")\n",
    "evaluar_overfitting(model_0, features_train_0, target_train_0, features_valid_0, target_valid_0)\n",
    "\n",
    "print(\"\\nRegión 1:\")\n",
    "evaluar_overfitting(model_1, features_train_1, target_train_1, features_valid_1, target_valid_1)\n",
    "\n",
    "print(\"\\nRegión 2:\")\n",
    "evaluar_overfitting(model_2, features_train_2, target_train_2, features_valid_2, target_valid_2)\n"
   ]
  },
  {
   "cell_type": "markdown",
   "metadata": {},
   "source": [
    "Conclusiones:\n",
    "Los valores de RMSE en los conjuntos de entrenamiento y validación son muy parecidos, lo cual indica que los modelos no están sobreajustados."
   ]
  },
  {
   "cell_type": "markdown",
   "metadata": {},
   "source": [
    "# Conclusiones Generales\n",
    "En este proyecto, se evaluaron tres regiones diferentes utilizando modelos de regresión lineal para predecir el volumen de reservas en pozos nuevos. El objetivo era identificar la región con el mayor margen de beneficio y el menor riesgo de pérdidas.\n",
    "\n",
    "##### Comparación de las Regiones:\n",
    "\n",
    "- Región 0:\n",
    "RMSE en validación: 37.58\n",
    "Ganancia esperada: $39,960,488.77\n",
    "Intervalo de confianza del 95% para las ganancias: [$39,195,008.61, $40,834,006.65]\n",
    "Riesgo de pérdidas: 0.0%\n",
    "\n",
    "- Región 1:\n",
    "RMSE en validación: 0.89\n",
    "Ganancia esperada: $24,857,120.52\n",
    "Intervalo de confianza del 95% para las ganancias: [$24,824,154.10, $24,896,158.22]\n",
    "Riesgo de pérdidas: 0.0%\n",
    "\n",
    "- Región 2:\n",
    "RMSE en validación: 40.03\n",
    "Ganancia esperada: $33,217,543.96\n",
    "Intervalo de confianza del 95% para las ganancias: [$32,590,091.09, $33,942,459.37]\n",
    "Riesgo de pérdidas: 0.0%\n",
    "Selección de la Mejor Región:\n",
    "\n",
    "Región 0 destaca como la mejor opción para abrir los nuevos pozos de petróleo, ya que presenta la ganancia esperada más alta ($39,960,488.77) y un riesgo de pérdidas nulo. Aunque la Región 1 tiene un RMSE más bajo, sus ganancias son menores.\n",
    "\n",
    "Las regiones 1 y 2 presentan márgenes de beneficio más bajos, siendo la Región 1 la menos favorable debido a sus menores expectativas de ganancia.\n",
    "\n",
    "##### Evaluación de Riesgos:\n",
    "\n",
    "- Se realizaron simulaciones de bootstrapping para evaluar la distribución de ganancias y los riesgos asociados con cada región.\n",
    "\n",
    "- Ninguna de las regiones mostró un riesgo de pérdidas superior al 2.5%, cumpliendo así con los criterios de inversión establecidos.\n",
    "\n",
    "##### Verificación de Sobreajuste:\n",
    "\n",
    "- No se observó sobreajuste en los modelos predictivos de las regiones, ya que los RMSE entre los conjuntos de entrenamiento y validación son consistentes.\n",
    "\n"
   ]
  },
  {
   "cell_type": "code",
   "execution_count": null,
   "metadata": {},
   "outputs": [],
   "source": []
  }
 ],
 "metadata": {
  "ExecuteTimeLog": [
   {
    "duration": 9,
    "start_time": "2024-08-28T07:16:03.761Z"
   },
   {
    "duration": 151,
    "start_time": "2024-08-28T07:17:50.368Z"
   },
   {
    "duration": 280,
    "start_time": "2024-08-28T07:17:59.213Z"
   },
   {
    "duration": 369,
    "start_time": "2024-08-28T07:18:01.104Z"
   },
   {
    "duration": 59,
    "start_time": "2024-08-28T07:18:11.990Z"
   },
   {
    "duration": 57,
    "start_time": "2024-08-28T07:18:17.243Z"
   },
   {
    "duration": 59,
    "start_time": "2024-08-28T07:18:27.251Z"
   },
   {
    "duration": 2,
    "start_time": "2024-08-28T07:18:28.530Z"
   },
   {
    "duration": 56,
    "start_time": "2024-08-28T07:18:29.362Z"
   },
   {
    "duration": 57,
    "start_time": "2024-08-28T07:19:06.912Z"
   },
   {
    "duration": 3,
    "start_time": "2024-08-28T07:19:26.965Z"
   },
   {
    "duration": 57,
    "start_time": "2024-08-28T07:19:28.263Z"
   },
   {
    "duration": 58,
    "start_time": "2024-08-28T07:19:54.823Z"
   },
   {
    "duration": 2,
    "start_time": "2024-08-28T07:20:15.517Z"
   },
   {
    "duration": 56,
    "start_time": "2024-08-28T07:20:21.923Z"
   },
   {
    "duration": 317,
    "start_time": "2024-08-30T00:45:09.066Z"
   },
   {
    "duration": 534,
    "start_time": "2024-08-30T00:45:09.519Z"
   },
   {
    "duration": 57,
    "start_time": "2024-08-30T00:46:14.796Z"
   },
   {
    "duration": 3,
    "start_time": "2024-08-30T00:46:16.100Z"
   },
   {
    "duration": 57,
    "start_time": "2024-08-30T00:46:17.045Z"
   },
   {
    "duration": 61,
    "start_time": "2024-08-30T00:47:36.529Z"
   },
   {
    "duration": 25,
    "start_time": "2024-08-30T00:48:45.078Z"
   },
   {
    "duration": 2,
    "start_time": "2024-08-30T00:48:48.772Z"
   },
   {
    "duration": 60,
    "start_time": "2024-08-30T00:49:06.774Z"
   },
   {
    "duration": 59,
    "start_time": "2024-08-30T00:49:36.344Z"
   },
   {
    "duration": 58,
    "start_time": "2024-08-30T00:49:49.322Z"
   },
   {
    "duration": 2,
    "start_time": "2024-08-30T00:50:06.411Z"
   },
   {
    "duration": 59,
    "start_time": "2024-08-30T00:50:06.721Z"
   },
   {
    "duration": 113,
    "start_time": "2024-08-30T00:51:20.494Z"
   },
   {
    "duration": 87,
    "start_time": "2024-08-30T00:51:45.603Z"
   },
   {
    "duration": 80,
    "start_time": "2024-08-30T00:51:53.457Z"
   },
   {
    "duration": 133,
    "start_time": "2024-08-30T00:56:12.156Z"
   },
   {
    "duration": 175,
    "start_time": "2024-08-30T00:56:18.907Z"
   },
   {
    "duration": 223,
    "start_time": "2024-08-30T00:58:41.429Z"
   },
   {
    "duration": 218,
    "start_time": "2024-08-30T00:59:35.527Z"
   },
   {
    "duration": 7,
    "start_time": "2024-08-30T01:01:19.537Z"
   },
   {
    "duration": 4,
    "start_time": "2024-08-30T01:01:22.631Z"
   },
   {
    "duration": 217,
    "start_time": "2024-08-30T01:01:25.649Z"
   },
   {
    "duration": 10,
    "start_time": "2024-08-30T01:01:50.728Z"
   },
   {
    "duration": 57,
    "start_time": "2024-08-30T01:07:29.343Z"
   },
   {
    "duration": 12,
    "start_time": "2024-08-30T01:07:53.751Z"
   },
   {
    "duration": 19,
    "start_time": "2024-08-30T01:08:03.292Z"
   },
   {
    "duration": 13,
    "start_time": "2024-08-30T01:08:09.636Z"
   },
   {
    "duration": 11,
    "start_time": "2024-08-30T01:08:22.043Z"
   },
   {
    "duration": 15,
    "start_time": "2024-08-30T01:08:37.083Z"
   },
   {
    "duration": 3,
    "start_time": "2024-08-30T04:12:14.311Z"
   },
   {
    "duration": 4,
    "start_time": "2024-08-30T04:12:25.442Z"
   },
   {
    "duration": 5,
    "start_time": "2024-08-30T04:13:07.389Z"
   },
   {
    "duration": 3,
    "start_time": "2024-08-30T04:13:18.686Z"
   },
   {
    "duration": 7,
    "start_time": "2024-08-30T04:14:19.223Z"
   },
   {
    "duration": 10,
    "start_time": "2024-08-30T04:14:30.091Z"
   },
   {
    "duration": 10,
    "start_time": "2024-08-30T04:14:48.397Z"
   },
   {
    "duration": 14,
    "start_time": "2024-08-30T04:29:23.148Z"
   },
   {
    "duration": 4,
    "start_time": "2024-08-30T04:29:48.973Z"
   },
   {
    "duration": 7,
    "start_time": "2024-08-30T04:29:51.758Z"
   },
   {
    "duration": 12,
    "start_time": "2024-08-30T04:29:59.151Z"
   },
   {
    "duration": 4,
    "start_time": "2024-08-30T04:30:11.814Z"
   },
   {
    "duration": 10,
    "start_time": "2024-08-30T04:30:21.622Z"
   },
   {
    "duration": 5,
    "start_time": "2024-08-30T04:30:25.615Z"
   },
   {
    "duration": 14,
    "start_time": "2024-08-30T04:30:29.705Z"
   },
   {
    "duration": 8,
    "start_time": "2024-08-30T04:30:33.579Z"
   },
   {
    "duration": 9,
    "start_time": "2024-08-30T04:30:41.168Z"
   },
   {
    "duration": 9,
    "start_time": "2024-08-30T04:30:51.377Z"
   },
   {
    "duration": 159,
    "start_time": "2024-08-30T14:16:26.131Z"
   },
   {
    "duration": 289,
    "start_time": "2024-08-30T14:16:35.175Z"
   },
   {
    "duration": 319,
    "start_time": "2024-08-30T14:16:35.468Z"
   },
   {
    "duration": 7,
    "start_time": "2024-08-30T14:16:35.789Z"
   },
   {
    "duration": 66,
    "start_time": "2024-08-30T14:16:35.798Z"
   },
   {
    "duration": 5,
    "start_time": "2024-08-30T14:16:35.867Z"
   },
   {
    "duration": 36,
    "start_time": "2024-08-30T14:16:35.873Z"
   },
   {
    "duration": 35,
    "start_time": "2024-08-30T14:16:35.911Z"
   },
   {
    "duration": 44,
    "start_time": "2024-08-30T14:17:51.019Z"
   },
   {
    "duration": 41,
    "start_time": "2024-08-30T14:17:52.586Z"
   },
   {
    "duration": 40,
    "start_time": "2024-08-30T14:17:54.772Z"
   },
   {
    "duration": 38,
    "start_time": "2024-08-30T14:20:17.065Z"
   },
   {
    "duration": 13,
    "start_time": "2024-08-30T14:21:11.336Z"
   },
   {
    "duration": 13,
    "start_time": "2024-08-30T14:21:13.328Z"
   },
   {
    "duration": 13,
    "start_time": "2024-08-30T14:21:15.546Z"
   },
   {
    "duration": 259,
    "start_time": "2024-08-30T14:26:07.812Z"
   },
   {
    "duration": 78,
    "start_time": "2024-08-30T14:26:35.621Z"
   },
   {
    "duration": 78,
    "start_time": "2024-08-30T14:27:00.975Z"
   },
   {
    "duration": 79,
    "start_time": "2024-08-30T14:27:45.755Z"
   },
   {
    "duration": 26,
    "start_time": "2024-08-30T14:28:30.332Z"
   },
   {
    "duration": 27,
    "start_time": "2024-08-30T14:28:31.981Z"
   },
   {
    "duration": 24,
    "start_time": "2024-08-30T14:28:33.657Z"
   },
   {
    "duration": 328,
    "start_time": "2024-08-30T21:05:18.622Z"
   },
   {
    "duration": 124,
    "start_time": "2024-08-30T21:05:18.951Z"
   },
   {
    "duration": 111,
    "start_time": "2024-08-30T21:05:19.077Z"
   },
   {
    "duration": 116,
    "start_time": "2024-08-30T21:05:19.191Z"
   },
   {
    "duration": 7,
    "start_time": "2024-08-30T21:05:19.308Z"
   },
   {
    "duration": 25,
    "start_time": "2024-08-30T21:05:19.316Z"
   },
   {
    "duration": 23,
    "start_time": "2024-08-30T21:05:19.342Z"
   },
   {
    "duration": 39,
    "start_time": "2024-08-30T21:05:19.367Z"
   },
   {
    "duration": 5,
    "start_time": "2024-08-30T21:05:19.407Z"
   },
   {
    "duration": 13,
    "start_time": "2024-08-30T21:05:19.415Z"
   },
   {
    "duration": 11,
    "start_time": "2024-08-30T21:05:19.429Z"
   },
   {
    "duration": 11,
    "start_time": "2024-08-30T21:05:19.442Z"
   },
   {
    "duration": 68,
    "start_time": "2024-08-30T21:05:19.455Z"
   },
   {
    "duration": 4,
    "start_time": "2024-08-30T21:05:19.525Z"
   },
   {
    "duration": 0,
    "start_time": "2024-08-30T21:05:19.531Z"
   },
   {
    "duration": 0,
    "start_time": "2024-08-30T21:05:19.532Z"
   },
   {
    "duration": 36,
    "start_time": "2024-08-30T21:05:29.125Z"
   },
   {
    "duration": 36,
    "start_time": "2024-08-30T21:05:29.467Z"
   },
   {
    "duration": 5,
    "start_time": "2024-08-30T21:17:31.749Z"
   },
   {
    "duration": 4,
    "start_time": "2024-08-30T21:17:32.078Z"
   },
   {
    "duration": 4,
    "start_time": "2024-08-30T21:17:32.411Z"
   },
   {
    "duration": 4,
    "start_time": "2024-08-30T21:17:52.637Z"
   },
   {
    "duration": 4,
    "start_time": "2024-08-30T21:17:53.140Z"
   },
   {
    "duration": 469,
    "start_time": "2024-08-30T21:48:31.096Z"
   },
   {
    "duration": 211,
    "start_time": "2024-08-30T23:30:24.746Z"
   },
   {
    "duration": 20,
    "start_time": "2024-08-30T23:30:32.344Z"
   },
   {
    "duration": 16,
    "start_time": "2024-08-30T23:30:37.290Z"
   },
   {
    "duration": 19,
    "start_time": "2024-08-30T23:32:12.489Z"
   },
   {
    "duration": 27,
    "start_time": "2024-08-30T23:32:18.109Z"
   },
   {
    "duration": 4,
    "start_time": "2024-08-30T23:32:24.915Z"
   },
   {
    "duration": 36,
    "start_time": "2024-08-30T23:36:33.531Z"
   },
   {
    "duration": 34,
    "start_time": "2024-08-30T23:37:01.212Z"
   },
   {
    "duration": 4,
    "start_time": "2024-08-30T23:37:14.180Z"
   },
   {
    "duration": 80,
    "start_time": "2024-08-30T23:37:14.376Z"
   },
   {
    "duration": 76,
    "start_time": "2024-08-30T23:37:14.560Z"
   },
   {
    "duration": 78,
    "start_time": "2024-08-30T23:37:14.739Z"
   },
   {
    "duration": 7,
    "start_time": "2024-08-30T23:37:14.931Z"
   },
   {
    "duration": 23,
    "start_time": "2024-08-30T23:37:15.101Z"
   },
   {
    "duration": 24,
    "start_time": "2024-08-30T23:37:15.316Z"
   },
   {
    "duration": 23,
    "start_time": "2024-08-30T23:37:15.499Z"
   },
   {
    "duration": 4,
    "start_time": "2024-08-30T23:37:15.913Z"
   },
   {
    "duration": 4,
    "start_time": "2024-08-30T23:37:16.177Z"
   },
   {
    "duration": 3,
    "start_time": "2024-08-30T23:37:16.420Z"
   },
   {
    "duration": 12,
    "start_time": "2024-08-30T23:37:16.652Z"
   },
   {
    "duration": 12,
    "start_time": "2024-08-30T23:37:16.883Z"
   },
   {
    "duration": 12,
    "start_time": "2024-08-30T23:37:17.099Z"
   },
   {
    "duration": 36,
    "start_time": "2024-08-30T23:37:17.308Z"
   },
   {
    "duration": 34,
    "start_time": "2024-08-30T23:37:17.549Z"
   },
   {
    "duration": 36,
    "start_time": "2024-08-30T23:37:17.789Z"
   },
   {
    "duration": 17,
    "start_time": "2024-08-30T23:37:18.485Z"
   },
   {
    "duration": 34,
    "start_time": "2024-08-30T23:37:18.881Z"
   },
   {
    "duration": 36,
    "start_time": "2024-08-30T23:37:31.199Z"
   },
   {
    "duration": 5,
    "start_time": "2024-08-30T23:39:37.233Z"
   },
   {
    "duration": 5,
    "start_time": "2024-08-30T23:40:04.495Z"
   },
   {
    "duration": 4,
    "start_time": "2024-08-30T23:40:15.113Z"
   },
   {
    "duration": 5,
    "start_time": "2024-08-30T23:46:45.322Z"
   },
   {
    "duration": 13,
    "start_time": "2024-08-30T23:46:50.410Z"
   },
   {
    "duration": 10,
    "start_time": "2024-08-30T23:46:51.891Z"
   },
   {
    "duration": 10,
    "start_time": "2024-08-30T23:47:01.183Z"
   },
   {
    "duration": 4,
    "start_time": "2024-08-30T23:53:07.180Z"
   },
   {
    "duration": 5,
    "start_time": "2024-08-30T23:55:37.071Z"
   },
   {
    "duration": 6,
    "start_time": "2024-08-30T23:55:49.670Z"
   },
   {
    "duration": 4,
    "start_time": "2024-08-31T00:03:59.941Z"
   },
   {
    "duration": 4,
    "start_time": "2024-08-31T00:04:08.775Z"
   },
   {
    "duration": 3,
    "start_time": "2024-08-31T00:04:17.184Z"
   },
   {
    "duration": 3,
    "start_time": "2024-08-31T00:04:23.379Z"
   },
   {
    "duration": 28,
    "start_time": "2024-08-31T00:19:23.420Z"
   },
   {
    "duration": 36,
    "start_time": "2024-08-31T00:19:29.308Z"
   },
   {
    "duration": 813,
    "start_time": "2024-08-31T17:58:09.539Z"
   },
   {
    "duration": 124,
    "start_time": "2024-08-31T17:58:10.354Z"
   },
   {
    "duration": 118,
    "start_time": "2024-08-31T17:58:10.480Z"
   },
   {
    "duration": 116,
    "start_time": "2024-08-31T17:58:10.600Z"
   },
   {
    "duration": 7,
    "start_time": "2024-08-31T17:58:10.719Z"
   },
   {
    "duration": 5,
    "start_time": "2024-08-31T17:58:10.728Z"
   },
   {
    "duration": 5,
    "start_time": "2024-08-31T17:58:10.735Z"
   },
   {
    "duration": 5,
    "start_time": "2024-08-31T17:58:10.741Z"
   },
   {
    "duration": 26,
    "start_time": "2024-08-31T17:58:10.748Z"
   },
   {
    "duration": 58,
    "start_time": "2024-08-31T17:58:10.776Z"
   },
   {
    "duration": 24,
    "start_time": "2024-08-31T17:58:10.835Z"
   },
   {
    "duration": 5,
    "start_time": "2024-08-31T17:58:10.860Z"
   },
   {
    "duration": 5,
    "start_time": "2024-08-31T17:58:10.866Z"
   },
   {
    "duration": 4,
    "start_time": "2024-08-31T17:58:10.874Z"
   },
   {
    "duration": 44,
    "start_time": "2024-08-31T17:58:10.879Z"
   },
   {
    "duration": 12,
    "start_time": "2024-08-31T17:58:10.925Z"
   },
   {
    "duration": 12,
    "start_time": "2024-08-31T17:58:10.939Z"
   },
   {
    "duration": 63,
    "start_time": "2024-08-31T17:58:10.952Z"
   },
   {
    "duration": 33,
    "start_time": "2024-08-31T17:58:11.016Z"
   },
   {
    "duration": 37,
    "start_time": "2024-08-31T17:58:11.050Z"
   },
   {
    "duration": 30,
    "start_time": "2024-08-31T17:58:11.089Z"
   },
   {
    "duration": 16,
    "start_time": "2024-08-31T17:58:11.121Z"
   },
   {
    "duration": 4,
    "start_time": "2024-08-31T17:58:11.139Z"
   },
   {
    "duration": 69,
    "start_time": "2024-08-31T17:58:11.145Z"
   },
   {
    "duration": 0,
    "start_time": "2024-08-31T17:58:11.216Z"
   },
   {
    "duration": 0,
    "start_time": "2024-08-31T17:58:11.217Z"
   },
   {
    "duration": 0,
    "start_time": "2024-08-31T17:58:11.218Z"
   },
   {
    "duration": 0,
    "start_time": "2024-08-31T17:58:11.220Z"
   },
   {
    "duration": 0,
    "start_time": "2024-08-31T17:58:11.222Z"
   },
   {
    "duration": 767,
    "start_time": "2024-08-31T17:58:27.654Z"
   },
   {
    "duration": 83,
    "start_time": "2024-08-31T17:58:28.423Z"
   },
   {
    "duration": 79,
    "start_time": "2024-08-31T17:58:28.508Z"
   },
   {
    "duration": 87,
    "start_time": "2024-08-31T17:58:28.589Z"
   },
   {
    "duration": 7,
    "start_time": "2024-08-31T17:58:28.677Z"
   },
   {
    "duration": 4,
    "start_time": "2024-08-31T17:58:28.686Z"
   },
   {
    "duration": 21,
    "start_time": "2024-08-31T17:58:28.692Z"
   },
   {
    "duration": 5,
    "start_time": "2024-08-31T17:58:28.714Z"
   },
   {
    "duration": 28,
    "start_time": "2024-08-31T17:58:28.721Z"
   },
   {
    "duration": 25,
    "start_time": "2024-08-31T17:58:28.752Z"
   },
   {
    "duration": 50,
    "start_time": "2024-08-31T17:58:28.779Z"
   },
   {
    "duration": 4,
    "start_time": "2024-08-31T17:58:28.830Z"
   },
   {
    "duration": 4,
    "start_time": "2024-08-31T17:58:28.836Z"
   },
   {
    "duration": 5,
    "start_time": "2024-08-31T17:58:28.841Z"
   },
   {
    "duration": 11,
    "start_time": "2024-08-31T17:58:28.848Z"
   },
   {
    "duration": 11,
    "start_time": "2024-08-31T17:58:28.861Z"
   },
   {
    "duration": 50,
    "start_time": "2024-08-31T17:58:28.874Z"
   },
   {
    "duration": 36,
    "start_time": "2024-08-31T17:58:28.926Z"
   },
   {
    "duration": 52,
    "start_time": "2024-08-31T17:58:28.964Z"
   },
   {
    "duration": 36,
    "start_time": "2024-08-31T17:58:29.017Z"
   },
   {
    "duration": 9,
    "start_time": "2024-08-31T17:58:29.055Z"
   },
   {
    "duration": 11,
    "start_time": "2024-08-31T17:58:29.067Z"
   },
   {
    "duration": 4,
    "start_time": "2024-08-31T17:58:29.112Z"
   },
   {
    "duration": 7,
    "start_time": "2024-08-31T17:58:29.118Z"
   },
   {
    "duration": 3,
    "start_time": "2024-08-31T17:58:29.126Z"
   },
   {
    "duration": 3,
    "start_time": "2024-08-31T17:58:29.131Z"
   },
   {
    "duration": 0,
    "start_time": "2024-08-31T17:58:29.136Z"
   },
   {
    "duration": 0,
    "start_time": "2024-08-31T17:58:29.212Z"
   },
   {
    "duration": 217,
    "start_time": "2024-08-31T17:58:41.356Z"
   },
   {
    "duration": 15,
    "start_time": "2024-08-31T17:58:50.461Z"
   },
   {
    "duration": 35,
    "start_time": "2024-08-31T17:59:31.264Z"
   },
   {
    "duration": 29,
    "start_time": "2024-08-31T18:05:42.584Z"
   },
   {
    "duration": 16,
    "start_time": "2024-08-31T18:28:37.570Z"
   },
   {
    "duration": 13,
    "start_time": "2024-08-31T18:29:06.861Z"
   },
   {
    "duration": 13,
    "start_time": "2024-08-31T18:48:53.091Z"
   },
   {
    "duration": 12,
    "start_time": "2024-08-31T18:50:22.990Z"
   },
   {
    "duration": 5,
    "start_time": "2024-08-31T18:53:47.060Z"
   },
   {
    "duration": 12,
    "start_time": "2024-08-31T18:53:54.389Z"
   },
   {
    "duration": 4,
    "start_time": "2024-08-31T18:54:19.381Z"
   },
   {
    "duration": 13,
    "start_time": "2024-08-31T18:56:48.232Z"
   },
   {
    "duration": 10,
    "start_time": "2024-08-31T18:56:59.272Z"
   },
   {
    "duration": 4,
    "start_time": "2024-08-31T18:57:06.122Z"
   },
   {
    "duration": 6,
    "start_time": "2024-08-31T18:57:45.211Z"
   },
   {
    "duration": 2,
    "start_time": "2024-08-31T19:00:30.355Z"
   },
   {
    "duration": 4,
    "start_time": "2024-08-31T19:01:04.608Z"
   },
   {
    "duration": 15,
    "start_time": "2024-08-31T19:16:07.767Z"
   },
   {
    "duration": 59,
    "start_time": "2024-08-31T19:16:33.807Z"
   },
   {
    "duration": 45,
    "start_time": "2024-08-31T19:16:56.489Z"
   },
   {
    "duration": 33,
    "start_time": "2024-08-31T19:17:32.428Z"
   },
   {
    "duration": 765,
    "start_time": "2024-08-31T19:22:49.769Z"
   },
   {
    "duration": 90,
    "start_time": "2024-08-31T19:22:50.537Z"
   },
   {
    "duration": 77,
    "start_time": "2024-08-31T19:22:50.629Z"
   },
   {
    "duration": 79,
    "start_time": "2024-08-31T19:22:50.712Z"
   },
   {
    "duration": 18,
    "start_time": "2024-08-31T19:22:50.794Z"
   },
   {
    "duration": 4,
    "start_time": "2024-08-31T19:22:50.814Z"
   },
   {
    "duration": 4,
    "start_time": "2024-08-31T19:22:50.820Z"
   },
   {
    "duration": 4,
    "start_time": "2024-08-31T19:22:50.827Z"
   },
   {
    "duration": 28,
    "start_time": "2024-08-31T19:22:50.833Z"
   },
   {
    "duration": 59,
    "start_time": "2024-08-31T19:22:50.863Z"
   },
   {
    "duration": 24,
    "start_time": "2024-08-31T19:22:50.924Z"
   },
   {
    "duration": 4,
    "start_time": "2024-08-31T19:22:50.950Z"
   },
   {
    "duration": 4,
    "start_time": "2024-08-31T19:22:50.956Z"
   },
   {
    "duration": 3,
    "start_time": "2024-08-31T19:22:50.964Z"
   },
   {
    "duration": 44,
    "start_time": "2024-08-31T19:22:50.969Z"
   },
   {
    "duration": 13,
    "start_time": "2024-08-31T19:22:51.014Z"
   },
   {
    "duration": 13,
    "start_time": "2024-08-31T19:22:51.029Z"
   },
   {
    "duration": 37,
    "start_time": "2024-08-31T19:22:51.043Z"
   },
   {
    "duration": 63,
    "start_time": "2024-08-31T19:22:51.081Z"
   },
   {
    "duration": 37,
    "start_time": "2024-08-31T19:22:51.146Z"
   },
   {
    "duration": 10,
    "start_time": "2024-08-31T19:22:51.184Z"
   },
   {
    "duration": 30,
    "start_time": "2024-08-31T19:22:51.195Z"
   },
   {
    "duration": 5,
    "start_time": "2024-08-31T19:22:51.230Z"
   },
   {
    "duration": 81,
    "start_time": "2024-08-31T19:22:51.238Z"
   },
   {
    "duration": 3,
    "start_time": "2024-08-31T19:22:51.321Z"
   },
   {
    "duration": 32,
    "start_time": "2024-08-31T19:22:51.326Z"
   },
   {
    "duration": 61,
    "start_time": "2024-08-31T19:22:51.359Z"
   },
   {
    "duration": 15,
    "start_time": "2024-08-31T19:22:51.421Z"
   },
   {
    "duration": 6,
    "start_time": "2024-08-31T19:22:51.439Z"
   },
   {
    "duration": 64,
    "start_time": "2024-08-31T19:22:51.448Z"
   },
   {
    "duration": 3,
    "start_time": "2024-08-31T19:22:51.514Z"
   },
   {
    "duration": 35,
    "start_time": "2024-08-31T19:22:51.519Z"
   },
   {
    "duration": 65,
    "start_time": "2024-08-31T19:22:51.555Z"
   },
   {
    "duration": 14,
    "start_time": "2024-08-31T19:22:51.623Z"
   },
   {
    "duration": 4,
    "start_time": "2024-08-31T19:22:51.642Z"
   },
   {
    "duration": 65,
    "start_time": "2024-08-31T19:22:51.648Z"
   },
   {
    "duration": 4,
    "start_time": "2024-08-31T19:22:51.715Z"
   },
   {
    "duration": 37,
    "start_time": "2024-08-31T19:22:51.722Z"
   },
   {
    "duration": 53,
    "start_time": "2024-08-31T19:22:51.762Z"
   },
   {
    "duration": 12,
    "start_time": "2024-08-31T19:23:30.870Z"
   },
   {
    "duration": 11,
    "start_time": "2024-08-31T19:24:06.013Z"
   },
   {
    "duration": 4,
    "start_time": "2024-08-31T19:24:23.544Z"
   },
   {
    "duration": 6,
    "start_time": "2024-08-31T19:24:31.495Z"
   },
   {
    "duration": 3,
    "start_time": "2024-08-31T19:24:55.983Z"
   },
   {
    "duration": 3,
    "start_time": "2024-08-31T19:26:04.248Z"
   },
   {
    "duration": 3,
    "start_time": "2024-08-31T19:34:51.174Z"
   },
   {
    "duration": 12,
    "start_time": "2024-08-31T19:35:19.831Z"
   },
   {
    "duration": 15,
    "start_time": "2024-08-31T19:35:31.863Z"
   },
   {
    "duration": 3,
    "start_time": "2024-08-31T19:36:26.040Z"
   },
   {
    "duration": 5,
    "start_time": "2024-08-31T19:36:27.853Z"
   },
   {
    "duration": 3,
    "start_time": "2024-08-31T19:36:46.745Z"
   },
   {
    "duration": 3,
    "start_time": "2024-08-31T19:36:55.134Z"
   },
   {
    "duration": 33,
    "start_time": "2024-08-31T19:38:26.543Z"
   },
   {
    "duration": 753,
    "start_time": "2024-08-31T19:40:55.673Z"
   },
   {
    "duration": 90,
    "start_time": "2024-08-31T19:40:56.428Z"
   },
   {
    "duration": 78,
    "start_time": "2024-08-31T19:40:56.520Z"
   },
   {
    "duration": 84,
    "start_time": "2024-08-31T19:40:56.601Z"
   },
   {
    "duration": 6,
    "start_time": "2024-08-31T19:40:56.687Z"
   },
   {
    "duration": 17,
    "start_time": "2024-08-31T19:40:56.695Z"
   },
   {
    "duration": 4,
    "start_time": "2024-08-31T19:40:56.714Z"
   },
   {
    "duration": 5,
    "start_time": "2024-08-31T19:40:56.720Z"
   },
   {
    "duration": 27,
    "start_time": "2024-08-31T19:40:56.726Z"
   },
   {
    "duration": 24,
    "start_time": "2024-08-31T19:40:56.757Z"
   },
   {
    "duration": 52,
    "start_time": "2024-08-31T19:40:56.783Z"
   },
   {
    "duration": 4,
    "start_time": "2024-08-31T19:40:56.837Z"
   },
   {
    "duration": 5,
    "start_time": "2024-08-31T19:40:56.842Z"
   },
   {
    "duration": 4,
    "start_time": "2024-08-31T19:40:56.849Z"
   },
   {
    "duration": 12,
    "start_time": "2024-08-31T19:40:56.855Z"
   },
   {
    "duration": 50,
    "start_time": "2024-08-31T19:40:56.869Z"
   },
   {
    "duration": 13,
    "start_time": "2024-08-31T19:40:56.920Z"
   },
   {
    "duration": 39,
    "start_time": "2024-08-31T19:40:56.935Z"
   },
   {
    "duration": 53,
    "start_time": "2024-08-31T19:40:56.976Z"
   },
   {
    "duration": 36,
    "start_time": "2024-08-31T19:40:57.031Z"
   },
   {
    "duration": 9,
    "start_time": "2024-08-31T19:40:57.068Z"
   },
   {
    "duration": 37,
    "start_time": "2024-08-31T19:40:57.079Z"
   },
   {
    "duration": 7,
    "start_time": "2024-08-31T19:40:57.117Z"
   },
   {
    "duration": 8,
    "start_time": "2024-08-31T19:40:57.127Z"
   },
   {
    "duration": 4,
    "start_time": "2024-08-31T19:40:57.213Z"
   },
   {
    "duration": 30,
    "start_time": "2024-08-31T19:40:57.219Z"
   },
   {
    "duration": 11,
    "start_time": "2024-08-31T19:40:57.251Z"
   },
   {
    "duration": 47,
    "start_time": "2024-08-31T19:40:57.266Z"
   },
   {
    "duration": 4,
    "start_time": "2024-08-31T19:40:57.314Z"
   },
   {
    "duration": 6,
    "start_time": "2024-08-31T19:40:57.320Z"
   },
   {
    "duration": 3,
    "start_time": "2024-08-31T19:40:57.328Z"
   },
   {
    "duration": 105,
    "start_time": "2024-08-31T19:40:57.332Z"
   },
   {
    "duration": 12,
    "start_time": "2024-08-31T19:40:57.438Z"
   },
   {
    "duration": 10,
    "start_time": "2024-08-31T19:40:57.451Z"
   },
   {
    "duration": 49,
    "start_time": "2024-08-31T19:40:57.463Z"
   },
   {
    "duration": 10,
    "start_time": "2024-08-31T19:40:57.514Z"
   },
   {
    "duration": 6,
    "start_time": "2024-08-31T19:40:57.526Z"
   },
   {
    "duration": 100,
    "start_time": "2024-08-31T19:40:57.533Z"
   },
   {
    "duration": 3,
    "start_time": "2024-08-31T19:59:15.836Z"
   },
   {
    "duration": 4,
    "start_time": "2024-08-31T19:59:26.379Z"
   },
   {
    "duration": 37,
    "start_time": "2024-08-31T19:59:47.105Z"
   },
   {
    "duration": 3,
    "start_time": "2024-08-31T20:00:36.414Z"
   },
   {
    "duration": 3,
    "start_time": "2024-08-31T20:00:45.789Z"
   },
   {
    "duration": 34,
    "start_time": "2024-08-31T20:01:05.485Z"
   },
   {
    "duration": 1863,
    "start_time": "2024-09-01T01:35:00.834Z"
   },
   {
    "duration": 3,
    "start_time": "2024-09-01T01:35:21.333Z"
   },
   {
    "duration": 3,
    "start_time": "2024-09-01T01:35:33.861Z"
   },
   {
    "duration": 109,
    "start_time": "2024-09-01T01:38:20.247Z"
   },
   {
    "duration": 119,
    "start_time": "2024-09-01T01:38:58.232Z"
   },
   {
    "duration": 111,
    "start_time": "2024-09-01T01:39:16.840Z"
   },
   {
    "duration": 93,
    "start_time": "2024-09-01T01:39:34.394Z"
   },
   {
    "duration": 18,
    "start_time": "2024-09-01T01:45:19.732Z"
   },
   {
    "duration": 17,
    "start_time": "2024-09-01T01:49:49.481Z"
   },
   {
    "duration": 15,
    "start_time": "2024-09-01T01:50:00.622Z"
   },
   {
    "duration": 106,
    "start_time": "2024-09-01T02:41:11.870Z"
   },
   {
    "duration": 2627,
    "start_time": "2025-01-24T20:44:41.697Z"
   },
   {
    "duration": 107,
    "start_time": "2025-01-24T20:44:44.326Z"
   },
   {
    "duration": 106,
    "start_time": "2025-01-24T20:44:45.480Z"
   },
   {
    "duration": 103,
    "start_time": "2025-01-24T20:44:45.911Z"
   },
   {
    "duration": 6,
    "start_time": "2025-01-24T20:44:46.091Z"
   },
   {
    "duration": 4,
    "start_time": "2025-01-24T20:44:46.295Z"
   },
   {
    "duration": 5,
    "start_time": "2025-01-24T20:44:46.512Z"
   },
   {
    "duration": 4,
    "start_time": "2025-01-24T20:44:46.629Z"
   },
   {
    "duration": 26,
    "start_time": "2025-01-24T20:44:46.806Z"
   },
   {
    "duration": 24,
    "start_time": "2025-01-24T20:44:46.984Z"
   },
   {
    "duration": 24,
    "start_time": "2025-01-24T20:44:47.193Z"
   },
   {
    "duration": 3,
    "start_time": "2025-01-24T20:44:47.479Z"
   },
   {
    "duration": 5,
    "start_time": "2025-01-24T20:44:48.807Z"
   },
   {
    "duration": 4,
    "start_time": "2025-01-24T20:44:49.353Z"
   },
   {
    "duration": 12,
    "start_time": "2025-01-24T20:44:49.530Z"
   },
   {
    "duration": 13,
    "start_time": "2025-01-24T20:44:49.707Z"
   },
   {
    "duration": 14,
    "start_time": "2025-01-24T20:44:49.883Z"
   },
   {
    "duration": 39,
    "start_time": "2025-01-24T20:44:50.039Z"
   },
   {
    "duration": 35,
    "start_time": "2025-01-24T20:44:50.220Z"
   },
   {
    "duration": 44,
    "start_time": "2025-01-24T20:44:50.376Z"
   },
   {
    "duration": 9,
    "start_time": "2025-01-24T20:44:50.824Z"
   },
   {
    "duration": 33,
    "start_time": "2025-01-24T20:44:51.926Z"
   },
   {
    "duration": 4,
    "start_time": "2025-01-24T20:44:52.282Z"
   },
   {
    "duration": 6,
    "start_time": "2025-01-24T20:44:52.614Z"
   },
   {
    "duration": 4,
    "start_time": "2025-01-24T20:44:52.934Z"
   },
   {
    "duration": 28,
    "start_time": "2025-01-24T20:44:53.263Z"
   },
   {
    "duration": 12,
    "start_time": "2025-01-24T20:44:53.575Z"
   },
   {
    "duration": 15,
    "start_time": "2025-01-24T20:44:53.912Z"
   },
   {
    "duration": 3,
    "start_time": "2025-01-24T20:44:55.255Z"
   },
   {
    "duration": 6,
    "start_time": "2025-01-24T20:44:56.342Z"
   },
   {
    "duration": 3,
    "start_time": "2025-01-24T20:44:57.252Z"
   },
   {
    "duration": 31,
    "start_time": "2025-01-24T20:44:58.200Z"
   },
   {
    "duration": 12,
    "start_time": "2025-01-24T20:44:59.593Z"
   },
   {
    "duration": 19,
    "start_time": "2025-01-24T20:45:00.217Z"
   },
   {
    "duration": 4,
    "start_time": "2025-01-24T20:45:00.567Z"
   },
   {
    "duration": 6,
    "start_time": "2025-01-24T20:45:00.935Z"
   },
   {
    "duration": 4,
    "start_time": "2025-01-24T20:45:01.289Z"
   },
   {
    "duration": 32,
    "start_time": "2025-01-24T20:45:01.625Z"
   },
   {
    "duration": 4,
    "start_time": "2025-01-24T20:45:01.978Z"
   },
   {
    "duration": 108,
    "start_time": "2025-01-24T20:45:02.648Z"
   },
   {
    "duration": 3,
    "start_time": "2025-01-24T20:45:03.611Z"
   },
   {
    "duration": 104,
    "start_time": "2025-01-24T20:45:03.962Z"
   },
   {
    "duration": 3,
    "start_time": "2025-01-24T20:45:04.252Z"
   },
   {
    "duration": 111,
    "start_time": "2025-01-24T20:45:04.648Z"
   },
   {
    "duration": 3,
    "start_time": "2025-01-24T20:45:05.449Z"
   },
   {
    "duration": 93,
    "start_time": "2025-01-24T20:45:05.661Z"
   },
   {
    "duration": 3,
    "start_time": "2025-01-24T20:45:06.793Z"
   },
   {
    "duration": 18,
    "start_time": "2025-01-24T20:45:07.048Z"
   },
   {
    "duration": 4,
    "start_time": "2025-01-24T20:46:19.679Z"
   },
   {
    "duration": 138,
    "start_time": "2025-01-24T20:58:04.743Z"
   }
  ],
  "kernelspec": {
   "display_name": "Python 3 (ipykernel)",
   "language": "python",
   "name": "python3"
  },
  "language_info": {
   "codemirror_mode": {
    "name": "ipython",
    "version": 3
   },
   "file_extension": ".py",
   "mimetype": "text/x-python",
   "name": "python",
   "nbconvert_exporter": "python",
   "pygments_lexer": "ipython3",
   "version": "3.9.19"
  },
  "toc": {
   "base_numbering": 1,
   "nav_menu": {},
   "number_sections": true,
   "sideBar": true,
   "skip_h1_title": true,
   "title_cell": "Table of Contents",
   "title_sidebar": "Contents",
   "toc_cell": false,
   "toc_position": {},
   "toc_section_display": true,
   "toc_window_display": false
  }
 },
 "nbformat": 4,
 "nbformat_minor": 2
}
